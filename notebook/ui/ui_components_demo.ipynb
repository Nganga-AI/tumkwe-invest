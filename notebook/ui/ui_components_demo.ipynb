{
 "cells": [
  {
   "cell_type": "code",
   "execution_count": 1,
   "metadata": {},
   "outputs": [
    {
     "data": {
      "text/plain": [
       "PosixPath('/data/home/eak/learning/nganga_ai/tumkwe-invest/tumkwe-invest')"
      ]
     },
     "execution_count": 1,
     "metadata": {},
     "output_type": "execute_result"
    }
   ],
   "source": [
    "import sys\n",
    "from datetime import datetime\n",
    "from pathlib import Path\n",
    "\n",
    "# Add the project root to the Python path\n",
    "project_root = Path.cwd().parent.parent\n",
    "if str(project_root) not in sys.path:\n",
    "\tsys.path.append(str(project_root))\n",
    "project_root"
   ]
  },
  {
   "cell_type": "markdown",
   "metadata": {},
   "source": [
    "# UI Components Demo\n",
    "This notebook demonstrates the usage of the reusable UI components defined in `ui/components.py`."
   ]
  },
  {
   "cell_type": "code",
   "execution_count": 2,
   "metadata": {},
   "outputs": [],
   "source": [
    "# Import the components\n",
    "from tumkwe_invest.ui.components import Card, Button, Tooltip, Tab, ToggleSwitch, Chart, SectionLayout\n",
    "import json"
   ]
  },
  {
   "cell_type": "markdown",
   "metadata": {},
   "source": [
    "## Create a Card Component"
   ]
  },
  {
   "cell_type": "code",
   "execution_count": 3,
   "metadata": {},
   "outputs": [
    {
     "name": "stdout",
     "output_type": "stream",
     "text": [
      "{\n",
      "  \"id\": \"component_140397595818736\",\n",
      "  \"classes\": [\n",
      "    \"card\"\n",
      "  ],\n",
      "  \"attributes\": {},\n",
      "  \"eventHandlers\": {},\n",
      "  \"type\": \"card\",\n",
      "  \"title\": \"Sample Card\",\n",
      "  \"content\": \"This is a sample card content.\",\n",
      "  \"footer\": \"Footer Text\",\n",
      "  \"headerActions\": []\n",
      "}\n"
     ]
    }
   ],
   "source": [
    "# Create a card with a title, content, and footer\n",
    "card = Card(title=\"Sample Card\", content=\"This is a sample card content.\")\n",
    "card.set_footer(\"Footer Text\")\n",
    "print(json.dumps(card.to_dict(), indent=2))"
   ]
  },
  {
   "cell_type": "markdown",
   "metadata": {},
   "source": [
    "## Create a Button Component"
   ]
  },
  {
   "cell_type": "code",
   "execution_count": 4,
   "metadata": {},
   "outputs": [
    {
     "name": "stdout",
     "output_type": "stream",
     "text": [
      "{\n",
      "  \"id\": \"component_140404431632752\",\n",
      "  \"classes\": [\n",
      "    \"button\",\n",
      "    \"button-primary\",\n",
      "    \"button-medium\"\n",
      "  ],\n",
      "  \"attributes\": {},\n",
      "  \"eventHandlers\": {},\n",
      "  \"type\": \"button\",\n",
      "  \"label\": \"Click Me\",\n",
      "  \"icon\": \"fa-icon\",\n",
      "  \"disabled\": false\n",
      "}\n"
     ]
    }
   ],
   "source": [
    "# Create a button with a label and variant\n",
    "button = Button(label=\"Click Me\", variant=\"primary\")\n",
    "button.set_icon(\"fa-icon\")\n",
    "print(json.dumps(button.to_dict(), indent=2))"
   ]
  },
  {
   "cell_type": "markdown",
   "metadata": {},
   "source": [
    "## Create a Tooltip Component"
   ]
  },
  {
   "cell_type": "code",
   "execution_count": 5,
   "metadata": {},
   "outputs": [
    {
     "name": "stdout",
     "output_type": "stream",
     "text": [
      "{\n",
      "  \"id\": \"component_140397595819600\",\n",
      "  \"classes\": [\n",
      "    \"tooltip\",\n",
      "    \"tooltip-top\"\n",
      "  ],\n",
      "  \"attributes\": {},\n",
      "  \"eventHandlers\": {},\n",
      "  \"type\": \"tooltip\",\n",
      "  \"content\": \"This is a tooltip\",\n",
      "  \"position\": \"top\"\n",
      "}\n"
     ]
    }
   ],
   "source": [
    "# Create a tooltip with content and position\n",
    "tooltip = Tooltip(content=\"This is a tooltip\", position=\"top\")\n",
    "print(json.dumps(tooltip.to_dict(), indent=2))"
   ]
  },
  {
   "cell_type": "markdown",
   "metadata": {},
   "source": [
    "## Create a Tab Component"
   ]
  },
  {
   "cell_type": "code",
   "execution_count": 6,
   "metadata": {},
   "outputs": [
    {
     "name": "stdout",
     "output_type": "stream",
     "text": [
      "{\n",
      "  \"id\": \"component_140404431629776\",\n",
      "  \"classes\": [\n",
      "    \"tabs\"\n",
      "  ],\n",
      "  \"attributes\": {},\n",
      "  \"eventHandlers\": {},\n",
      "  \"type\": \"tabs\",\n",
      "  \"tabs\": [\n",
      "    {\n",
      "      \"label\": \"Tab 1\",\n",
      "      \"content\": \"Content 1\"\n",
      "    },\n",
      "    {\n",
      "      \"label\": \"Tab 2\",\n",
      "      \"content\": \"Content 2\"\n",
      "    }\n",
      "  ],\n",
      "  \"activeTab\": 1\n",
      "}\n"
     ]
    }
   ],
   "source": [
    "# Create a tab with multiple tabs\n",
    "tabs = Tab(tabs=[{\"label\": \"Tab 1\", \"content\": \"Content 1\"}, {\"label\": \"Tab 2\", \"content\": \"Content 2\"}])\n",
    "tabs.set_active_tab(1)\n",
    "print(json.dumps(tabs.to_dict(), indent=2))"
   ]
  },
  {
   "cell_type": "markdown",
   "metadata": {},
   "source": [
    "## Create a ToggleSwitch Component"
   ]
  },
  {
   "cell_type": "code",
   "execution_count": 7,
   "metadata": {},
   "outputs": [
    {
     "name": "stdout",
     "output_type": "stream",
     "text": [
      "{\n",
      "  \"id\": \"component_140397591548672\",\n",
      "  \"classes\": [\n",
      "    \"toggle-switch\"\n",
      "  ],\n",
      "  \"attributes\": {},\n",
      "  \"eventHandlers\": {},\n",
      "  \"type\": \"toggleSwitch\",\n",
      "  \"label\": \"Enable Feature\",\n",
      "  \"checked\": true,\n",
      "  \"description\": \"Toggle this feature on or off\"\n",
      "}\n"
     ]
    }
   ],
   "source": [
    "# Create a toggle switch\n",
    "toggle = ToggleSwitch(label=\"Enable Feature\", checked=True)\n",
    "toggle.set_description(\"Toggle this feature on or off\")\n",
    "print(json.dumps(toggle.to_dict(), indent=2))"
   ]
  },
  {
   "cell_type": "markdown",
   "metadata": {},
   "source": [
    "## Create a Chart Component"
   ]
  },
  {
   "cell_type": "code",
   "execution_count": 8,
   "metadata": {},
   "outputs": [
    {
     "name": "stdout",
     "output_type": "stream",
     "text": [
      "{\n",
      "  \"id\": \"component_140404431628864\",\n",
      "  \"classes\": [\n",
      "    \"chart\"\n",
      "  ],\n",
      "  \"attributes\": {},\n",
      "  \"eventHandlers\": {},\n",
      "  \"type\": \"chart\",\n",
      "  \"chartConfig\": {\n",
      "    \"type\": \"line\",\n",
      "    \"data\": {\n",
      "      \"labels\": [\n",
      "        \"Jan\",\n",
      "        \"Feb\",\n",
      "        \"Mar\"\n",
      "      ],\n",
      "      \"datasets\": [\n",
      "        {\n",
      "          \"label\": \"Sales\",\n",
      "          \"data\": [\n",
      "            100,\n",
      "            200,\n",
      "            150\n",
      "          ]\n",
      "        }\n",
      "      ]\n",
      "    }\n",
      "  },\n",
      "  \"height\": \"400px\",\n",
      "  \"width\": \"600px\"\n",
      "}\n"
     ]
    }
   ],
   "source": [
    "# Create a chart with sample data\n",
    "chart = Chart(chart_config={\"type\": \"line\", \"data\": {\"labels\": [\"Jan\", \"Feb\", \"Mar\"], \"datasets\": [{\"label\": \"Sales\", \"data\": [100, 200, 150]}]}})\n",
    "chart.set_height(\"400px\").set_width(\"600px\")\n",
    "print(json.dumps(chart.to_dict(), indent=2))"
   ]
  },
  {
   "cell_type": "markdown",
   "metadata": {},
   "source": [
    "## Create a SectionLayout Component"
   ]
  },
  {
   "cell_type": "code",
   "execution_count": 9,
   "metadata": {},
   "outputs": [
    {
     "name": "stdout",
     "output_type": "stream",
     "text": [
      "{\n",
      "  \"id\": \"component_140397591552944\",\n",
      "  \"classes\": [\n",
      "    \"section\"\n",
      "  ],\n",
      "  \"attributes\": {},\n",
      "  \"eventHandlers\": {},\n",
      "  \"type\": \"section\",\n",
      "  \"title\": \"Sample Section\",\n",
      "  \"description\": \"This is a sample section\",\n",
      "  \"components\": [\n",
      "    {\n",
      "      \"id\": \"component_140397595818736\",\n",
      "      \"classes\": [\n",
      "        \"card\"\n",
      "      ],\n",
      "      \"attributes\": {},\n",
      "      \"eventHandlers\": {},\n",
      "      \"type\": \"card\",\n",
      "      \"title\": \"Sample Card\",\n",
      "      \"content\": \"This is a sample card content.\",\n",
      "      \"footer\": \"Footer Text\",\n",
      "      \"headerActions\": []\n",
      "    },\n",
      "    {\n",
      "      \"id\": \"component_140404431632752\",\n",
      "      \"classes\": [\n",
      "        \"button\",\n",
      "        \"button-primary\",\n",
      "        \"button-medium\"\n",
      "      ],\n",
      "      \"attributes\": {},\n",
      "      \"eventHandlers\": {},\n",
      "      \"type\": \"button\",\n",
      "      \"label\": \"Click Me\",\n",
      "      \"icon\": \"fa-icon\",\n",
      "      \"disabled\": false\n",
      "    }\n",
      "  ],\n",
      "  \"collapsed\": false\n",
      "}\n"
     ]
    }
   ],
   "source": [
    "# Create a section layout with multiple components\n",
    "section = SectionLayout(title=\"Sample Section\", components=[card.to_dict(), button.to_dict()])\n",
    "section.set_description(\"This is a sample section\")\n",
    "print(json.dumps(section.to_dict(), indent=2))"
   ]
  }
 ],
 "metadata": {
  "kernelspec": {
   "display_name": ".venv",
   "language": "python",
   "name": "python3"
  },
  "language_info": {
   "codemirror_mode": {
    "name": "ipython",
    "version": 3
   },
   "file_extension": ".py",
   "mimetype": "text/x-python",
   "name": "python",
   "nbconvert_exporter": "python",
   "pygments_lexer": "ipython3",
   "version": "3.10.13"
  }
 },
 "nbformat": 4,
 "nbformat_minor": 2
}
