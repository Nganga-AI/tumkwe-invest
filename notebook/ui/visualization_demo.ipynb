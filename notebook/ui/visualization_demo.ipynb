{
 "cells": [
  {
   "cell_type": "code",
   "execution_count": 1,
   "metadata": {},
   "outputs": [
    {
     "data": {
      "text/plain": [
       "PosixPath('/data/home/eak/learning/nganga_ai/tumkwe-invest/tumkwe-invest')"
      ]
     },
     "execution_count": 1,
     "metadata": {},
     "output_type": "execute_result"
    }
   ],
   "source": [
    "import sys\n",
    "from datetime import datetime\n",
    "from pathlib import Path\n",
    "\n",
    "# Add the project root to the Python path\n",
    "project_root = Path.cwd().parent.parent\n",
    "if str(project_root) not in sys.path:\n",
    "\tsys.path.append(str(project_root))\n",
    "project_root"
   ]
  },
  {
   "cell_type": "markdown",
   "metadata": {},
   "source": [
    "# Visualization Demo\n",
    "This notebook demonstrates the usage of the `ui/visualization.py` module to create charts and visualizations."
   ]
  },
  {
   "cell_type": "code",
   "execution_count": 2,
   "metadata": {},
   "outputs": [],
   "source": [
    "# Import visualization functions\n",
    "from tumkwe_invest.ui.visualization import create_stock_price_chart, create_technical_indicators_chart, create_fundamental_comparison_chart, create_sentiment_gauge\n",
    "import json"
   ]
  },
  {
   "cell_type": "markdown",
   "metadata": {},
   "source": [
    "## Create a Stock Price Chart"
   ]
  },
  {
   "cell_type": "code",
   "execution_count": 3,
   "metadata": {},
   "outputs": [
    {
     "name": "stdout",
     "output_type": "stream",
     "text": [
      "{\n",
      "  \"type\": \"line\",\n",
      "  \"data\": {\n",
      "    \"labels\": [\n",
      "      \"2025-01-01\",\n",
      "      \"2025-01-02\",\n",
      "      \"2025-01-03\"\n",
      "    ],\n",
      "    \"datasets\": [\n",
      "      {\n",
      "        \"label\": \"Stock Price\",\n",
      "        \"data\": [\n",
      "          150,\n",
      "          155,\n",
      "          160\n",
      "        ],\n",
      "        \"borderColor\": \"#4285F4\",\n",
      "        \"backgroundColor\": \"rgba(66, 133, 244, 0.2)\",\n",
      "        \"borderWidth\": 2,\n",
      "        \"pointRadius\": 1,\n",
      "        \"pointHoverRadius\": 5,\n",
      "        \"fill\": false\n",
      "      }\n",
      "    ]\n",
      "  },\n",
      "  \"options\": {\n",
      "    \"colors\": {\n",
      "      \"positive\": \"#34A853\",\n",
      "      \"negative\": \"#EA4335\",\n",
      "      \"neutral\": \"#4285F4\",\n",
      "      \"background\": \"#FFFFFF\",\n",
      "      \"text\": \"#202124\"\n",
      "    },\n",
      "    \"responsive\": true,\n",
      "    \"maintainAspectRatio\": false,\n",
      "    \"tooltip\": {\n",
      "      \"enabled\": true,\n",
      "      \"mode\": \"index\",\n",
      "      \"intersect\": false\n",
      "    },\n",
      "    \"legend\": {\n",
      "      \"display\": true,\n",
      "      \"position\": \"top\"\n",
      "    }\n",
      "  }\n",
      "}\n"
     ]
    }
   ],
   "source": [
    "# Sample data\n",
    "dates = [\"2025-01-01\", \"2025-01-02\", \"2025-01-03\"]\n",
    "prices = [150, 155, 160]\n",
    "chart_config = create_stock_price_chart(dates, prices)\n",
    "print(json.dumps(chart_config, indent=2))"
   ]
  },
  {
   "cell_type": "markdown",
   "metadata": {},
   "source": [
    "## Create a Technical Indicators Chart"
   ]
  },
  {
   "cell_type": "code",
   "execution_count": 4,
   "metadata": {},
   "outputs": [
    {
     "name": "stdout",
     "output_type": "stream",
     "text": [
      "{\n",
      "  \"type\": \"line\",\n",
      "  \"data\": {\n",
      "    \"labels\": [\n",
      "      \"2025-01-01\",\n",
      "      \"2025-01-02\",\n",
      "      \"2025-01-03\"\n",
      "    ],\n",
      "    \"datasets\": [\n",
      "      {\n",
      "        \"label\": \"RSI\",\n",
      "        \"data\": [\n",
      "          30,\n",
      "          40,\n",
      "          50\n",
      "        ],\n",
      "        \"borderColor\": \"#4285F4\",\n",
      "        \"backgroundColor\": \"transparent\",\n",
      "        \"borderWidth\": 1.5,\n",
      "        \"pointRadius\": 0,\n",
      "        \"pointHoverRadius\": 3,\n",
      "        \"fill\": false\n",
      "      },\n",
      "      {\n",
      "        \"label\": \"MACD\",\n",
      "        \"data\": [\n",
      "          1,\n",
      "          2,\n",
      "          3\n",
      "        ],\n",
      "        \"borderColor\": \"#EA4335\",\n",
      "        \"backgroundColor\": \"transparent\",\n",
      "        \"borderWidth\": 1.5,\n",
      "        \"pointRadius\": 0,\n",
      "        \"pointHoverRadius\": 3,\n",
      "        \"fill\": false\n",
      "      }\n",
      "    ]\n",
      "  },\n",
      "  \"options\": {\n",
      "    \"colors\": {\n",
      "      \"positive\": \"#34A853\",\n",
      "      \"negative\": \"#EA4335\",\n",
      "      \"neutral\": \"#4285F4\",\n",
      "      \"background\": \"#FFFFFF\",\n",
      "      \"text\": \"#202124\"\n",
      "    },\n",
      "    \"responsive\": true,\n",
      "    \"maintainAspectRatio\": false,\n",
      "    \"tooltip\": {\n",
      "      \"enabled\": true,\n",
      "      \"mode\": \"index\",\n",
      "      \"intersect\": false\n",
      "    },\n",
      "    \"legend\": {\n",
      "      \"display\": true,\n",
      "      \"position\": \"top\"\n",
      "    }\n",
      "  }\n",
      "}\n"
     ]
    }
   ],
   "source": [
    "# Sample data\n",
    "indicators = {\"RSI\": [30, 40, 50], \"MACD\": [1, 2, 3]}\n",
    "chart_config = create_technical_indicators_chart(dates, indicators)\n",
    "print(json.dumps(chart_config, indent=2))"
   ]
  },
  {
   "cell_type": "markdown",
   "metadata": {},
   "source": [
    "## Create a Fundamental Comparison Chart"
   ]
  },
  {
   "cell_type": "code",
   "execution_count": 5,
   "metadata": {},
   "outputs": [
    {
     "name": "stdout",
     "output_type": "stream",
     "text": [
      "{\n",
      "  \"type\": \"bar\",\n",
      "  \"data\": {\n",
      "    \"labels\": [\n",
      "      \"P/E Ratio\",\n",
      "      \"ROE\",\n",
      "      \"Profit Margin\"\n",
      "    ],\n",
      "    \"datasets\": [\n",
      "      {\n",
      "        \"label\": \"Stock\",\n",
      "        \"data\": [\n",
      "          25,\n",
      "          0.3,\n",
      "          0.2\n",
      "        ],\n",
      "        \"backgroundColor\": \"rgba(66, 133, 244, 0.7)\"\n",
      "      },\n",
      "      {\n",
      "        \"label\": \"Benchmark\",\n",
      "        \"data\": [\n",
      "          0,\n",
      "          0,\n",
      "          0\n",
      "        ],\n",
      "        \"backgroundColor\": \"rgba(251, 188, 5, 0.7)\"\n",
      "      },\n",
      "      {\n",
      "        \"label\": \"Industry Average\",\n",
      "        \"data\": [\n",
      "          20,\n",
      "          0.25,\n",
      "          0.18\n",
      "        ],\n",
      "        \"backgroundColor\": \"rgba(52, 168, 83, 0.7)\"\n",
      "      }\n",
      "    ]\n",
      "  },\n",
      "  \"options\": {\n",
      "    \"responsive\": true,\n",
      "    \"scales\": {\n",
      "      \"y\": {\n",
      "        \"beginAtZero\": false\n",
      "      }\n",
      "    },\n",
      "    \"plugins\": {\n",
      "      \"tooltip\": {\n",
      "        \"callbacks\": {\n",
      "          \"label\": \"function(context) { return context.dataset.label + ': ' + context.raw; }\"\n",
      "        }\n",
      "      }\n",
      "    }\n",
      "  }\n",
      "}\n"
     ]
    }
   ],
   "source": [
    "# Sample data\n",
    "metrics = [\"P/E Ratio\", \"ROE\", \"Profit Margin\"]\n",
    "stock_values = [25, 0.3, 0.2]\n",
    "industry_values = [20, 0.25, 0.18]\n",
    "chart_config = create_fundamental_comparison_chart(metrics, stock_values, [0, 0, 0], industry_values)\n",
    "print(json.dumps(chart_config, indent=2))"
   ]
  },
  {
   "cell_type": "markdown",
   "metadata": {},
   "source": [
    "## Create a Sentiment Gauge"
   ]
  },
  {
   "cell_type": "code",
   "execution_count": 6,
   "metadata": {},
   "outputs": [
    {
     "name": "stdout",
     "output_type": "stream",
     "text": [
      "{\n",
      "  \"type\": \"gauge\",\n",
      "  \"data\": {\n",
      "    \"datasets\": [\n",
      "      {\n",
      "        \"value\": 0.7,\n",
      "        \"minValue\": -1.0,\n",
      "        \"maxValue\": 1.0,\n",
      "        \"backgroundColor\": \"#1B5E20\",\n",
      "        \"borderWidth\": 0\n",
      "      }\n",
      "    ]\n",
      "  },\n",
      "  \"options\": {\n",
      "    \"needle\": {\n",
      "      \"radiusPercentage\": 2,\n",
      "      \"widthPercentage\": 3.2,\n",
      "      \"lengthPercentage\": 80,\n",
      "      \"color\": \"#000000\"\n",
      "    },\n",
      "    \"valueLabel\": {\n",
      "      \"display\": true,\n",
      "      \"formatter\": \"function(value) { return value.toFixed(2); }\"\n",
      "    },\n",
      "    \"responsive\": true\n",
      "  }\n",
      "}\n"
     ]
    }
   ],
   "source": [
    "# Sample sentiment score\n",
    "sentiment_config = create_sentiment_gauge(0.7)\n",
    "print(json.dumps(sentiment_config, indent=2))"
   ]
  },
  {
   "cell_type": "code",
   "execution_count": null,
   "metadata": {},
   "outputs": [],
   "source": []
  }
 ],
 "metadata": {
  "kernelspec": {
   "display_name": ".venv",
   "language": "python",
   "name": "python3"
  },
  "language_info": {
   "codemirror_mode": {
    "name": "ipython",
    "version": 3
   },
   "file_extension": ".py",
   "mimetype": "text/x-python",
   "name": "python",
   "nbconvert_exporter": "python",
   "pygments_lexer": "ipython3",
   "version": "3.10.13"
  }
 },
 "nbformat": 4,
 "nbformat_minor": 2
}
