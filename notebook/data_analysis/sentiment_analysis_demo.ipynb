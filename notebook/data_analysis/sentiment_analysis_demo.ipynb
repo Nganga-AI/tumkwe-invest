{
 "cells": [
  {
   "cell_type": "markdown",
   "metadata": {},
   "source": [
    "# Sentiment Analysis Demonstration\n",
    "\n",
    "This notebook demonstrates the usage of the `SentimentAnalyzer` class for analyzing sentiment in news articles and social media about stocks."
   ]
  },
  {
   "cell_type": "code",
   "execution_count": 1,
   "metadata": {},
   "outputs": [],
   "source": [
    "import sys\n",
    "import os\n",
    "import pandas as pd\n",
    "import numpy as np\n",
    "import matplotlib.pyplot as plt\n",
    "from typing import Dict, List, Any\n",
    "\n",
    "# Add project root to path to allow imports\n",
    "sys.path.append('../..')\n",
    "\n",
    "from tumkwe_invest.data_analysis.sentiment_analysis import SentimentAnalyzer"
   ]
  },
  {
   "cell_type": "markdown",
   "metadata": {},
   "source": [
    "## Initialize Sentiment Analyzer\n",
    "\n",
    "We'll create analyzers using different model types for comparison."
   ]
  },
  {
   "cell_type": "code",
   "execution_count": 2,
   "metadata": {},
   "outputs": [
    {
     "data": {
      "application/vnd.jupyter.widget-view+json": {
       "model_id": "e2b57620255c462a8c4e672e6694f831",
       "version_major": 2,
       "version_minor": 0
      },
      "text/plain": [
       "config.json:   0%|          | 0.00/758 [00:00<?, ?B/s]"
      ]
     },
     "metadata": {},
     "output_type": "display_data"
    },
    {
     "data": {
      "application/vnd.jupyter.widget-view+json": {
       "model_id": "9759d33a5be940128be2c3dbf2f292b2",
       "version_major": 2,
       "version_minor": 0
      },
      "text/plain": [
       "pytorch_model.bin:   0%|          | 0.00/438M [00:00<?, ?B/s]"
      ]
     },
     "metadata": {},
     "output_type": "display_data"
    },
    {
     "data": {
      "application/vnd.jupyter.widget-view+json": {
       "model_id": "36d0bf16de15409dad6114091f8d46fb",
       "version_major": 2,
       "version_minor": 0
      },
      "text/plain": [
       "tokenizer_config.json:   0%|          | 0.00/252 [00:00<?, ?B/s]"
      ]
     },
     "metadata": {},
     "output_type": "display_data"
    },
    {
     "data": {
      "application/vnd.jupyter.widget-view+json": {
       "model_id": "b2d01b223b544459abbade317982910e",
       "version_major": 2,
       "version_minor": 0
      },
      "text/plain": [
       "vocab.txt:   0%|          | 0.00/232k [00:00<?, ?B/s]"
      ]
     },
     "metadata": {},
     "output_type": "display_data"
    },
    {
     "data": {
      "application/vnd.jupyter.widget-view+json": {
       "model_id": "b5c36274efe04bee875e6a511d029c7f",
       "version_major": 2,
       "version_minor": 0
      },
      "text/plain": [
       "special_tokens_map.json:   0%|          | 0.00/112 [00:00<?, ?B/s]"
      ]
     },
     "metadata": {},
     "output_type": "display_data"
    },
    {
     "name": "stderr",
     "output_type": "stream",
     "text": [
      "Device set to use cuda:0\n"
     ]
    },
    {
     "data": {
      "application/vnd.jupyter.widget-view+json": {
       "model_id": "f96ba177314f4ff89ed20323d703f7e6",
       "version_major": 2,
       "version_minor": 0
      },
      "text/plain": [
       "model.safetensors:   0%|          | 0.00/438M [00:00<?, ?B/s]"
      ]
     },
     "metadata": {},
     "output_type": "display_data"
    },
    {
     "name": "stderr",
     "output_type": "stream",
     "text": [
      "Device set to use cuda:0\n"
     ]
    }
   ],
   "source": [
    "# Initialize NLTK-based analyzer (fastest)\n",
    "nltk_analyzer = SentimentAnalyzer(model_type=\"nltk\")\n",
    "\n",
    "# Note: The following may take some time to initialize as they download models\n",
    "# Comment out if you want to focus only on nltk for faster execution\n",
    "\n",
    "try:\n",
    "    # Initialize Hugging Face transformer-based analyzer (more accurate but slower)\n",
    "    hf_analyzer = SentimentAnalyzer(model_type=\"huggingface\")\n",
    "    \n",
    "    # Initialize ensemble analyzer that combines both approaches\n",
    "    ensemble_analyzer = SentimentAnalyzer(model_type=\"ensemble\")\n",
    "    \n",
    "    all_models_available = True\n",
    "except Exception as e:\n",
    "    print(f\"Error initializing advanced models: {e}\")\n",
    "    all_models_available = False"
   ]
  },
  {
   "cell_type": "markdown",
   "metadata": {},
   "source": [
    "## Single Text Analysis\n",
    "\n",
    "Let's analyze some sample financial news headlines and social media posts."
   ]
  },
  {
   "cell_type": "code",
   "execution_count": 3,
   "metadata": {},
   "outputs": [
    {
     "data": {
      "text/html": [
       "<div>\n",
       "<style scoped>\n",
       "    .dataframe tbody tr th:only-of-type {\n",
       "        vertical-align: middle;\n",
       "    }\n",
       "\n",
       "    .dataframe tbody tr th {\n",
       "        vertical-align: top;\n",
       "    }\n",
       "\n",
       "    .dataframe thead th {\n",
       "        text-align: right;\n",
       "    }\n",
       "</style>\n",
       "<table border=\"1\" class=\"dataframe\">\n",
       "  <thead>\n",
       "    <tr style=\"text-align: right;\">\n",
       "      <th></th>\n",
       "      <th>text</th>\n",
       "      <th>nltk_sentiment</th>\n",
       "      <th>nltk_confidence</th>\n",
       "      <th>huggingface_sentiment</th>\n",
       "      <th>huggingface_confidence</th>\n",
       "      <th>ensemble_sentiment</th>\n",
       "      <th>ensemble_confidence</th>\n",
       "    </tr>\n",
       "  </thead>\n",
       "  <tbody>\n",
       "    <tr>\n",
       "      <th>0</th>\n",
       "      <td>Company XYZ reports record profits, stock soar...</td>\n",
       "      <td>positive</td>\n",
       "      <td>0.4404</td>\n",
       "      <td>positive</td>\n",
       "      <td>0.882508</td>\n",
       "      <td>positive</td>\n",
       "      <td>0.661454</td>\n",
       "    </tr>\n",
       "    <tr>\n",
       "      <th>1</th>\n",
       "      <td>Market crash wipes out billions in value as in...</td>\n",
       "      <td>negative</td>\n",
       "      <td>0.5574</td>\n",
       "      <td>negative</td>\n",
       "      <td>0.868036</td>\n",
       "      <td>negative</td>\n",
       "      <td>0.712718</td>\n",
       "    </tr>\n",
       "    <tr>\n",
       "      <th>2</th>\n",
       "      <td>Analysts remain neutral on ABC Corp despite mi...</td>\n",
       "      <td>positive</td>\n",
       "      <td>0.2235</td>\n",
       "      <td>negative</td>\n",
       "      <td>0.528778</td>\n",
       "      <td>negative</td>\n",
       "      <td>0.528778</td>\n",
       "    </tr>\n",
       "    <tr>\n",
       "      <th>3</th>\n",
       "      <td>New product launch expected to boost revenue b...</td>\n",
       "      <td>positive</td>\n",
       "      <td>0.4019</td>\n",
       "      <td>positive</td>\n",
       "      <td>0.953226</td>\n",
       "      <td>positive</td>\n",
       "      <td>0.677563</td>\n",
       "    </tr>\n",
       "    <tr>\n",
       "      <th>4</th>\n",
       "      <td>CEO under investigation for accounting irregul...</td>\n",
       "      <td>neutral</td>\n",
       "      <td>0.0000</td>\n",
       "      <td>negative</td>\n",
       "      <td>0.810663</td>\n",
       "      <td>negative</td>\n",
       "      <td>0.810663</td>\n",
       "    </tr>\n",
       "  </tbody>\n",
       "</table>\n",
       "</div>"
      ],
      "text/plain": [
       "                                                text nltk_sentiment  \\\n",
       "0  Company XYZ reports record profits, stock soar...       positive   \n",
       "1  Market crash wipes out billions in value as in...       negative   \n",
       "2  Analysts remain neutral on ABC Corp despite mi...       positive   \n",
       "3  New product launch expected to boost revenue b...       positive   \n",
       "4  CEO under investigation for accounting irregul...        neutral   \n",
       "\n",
       "   nltk_confidence huggingface_sentiment  huggingface_confidence  \\\n",
       "0           0.4404              positive                0.882508   \n",
       "1           0.5574              negative                0.868036   \n",
       "2           0.2235              negative                0.528778   \n",
       "3           0.4019              positive                0.953226   \n",
       "4           0.0000              negative                0.810663   \n",
       "\n",
       "  ensemble_sentiment  ensemble_confidence  \n",
       "0           positive             0.661454  \n",
       "1           negative             0.712718  \n",
       "2           negative             0.528778  \n",
       "3           positive             0.677563  \n",
       "4           negative             0.810663  "
      ]
     },
     "execution_count": 3,
     "metadata": {},
     "output_type": "execute_result"
    }
   ],
   "source": [
    "# Sample texts\n",
    "sample_texts = [\n",
    "    \"Company XYZ reports record profits, stock soars 15%\",\n",
    "    \"Market crash wipes out billions in value as investors panic\",\n",
    "    \"Analysts remain neutral on ABC Corp despite missed earnings\",\n",
    "    \"New product launch expected to boost revenue by Q3\",\n",
    "    \"CEO under investigation for accounting irregularities\"\n",
    "]\n",
    "\n",
    "# Analyze each sample text\n",
    "results = []\n",
    "for i, text in enumerate(sample_texts):\n",
    "    nltk_result = nltk_analyzer.analyze_text(text)\n",
    "    \n",
    "    result = {\n",
    "        \"text\": text,\n",
    "        \"nltk_sentiment\": nltk_result[\"sentiment\"],\n",
    "        \"nltk_confidence\": nltk_result[\"confidence\"],\n",
    "    }\n",
    "    \n",
    "    # Add results from other models if available\n",
    "    if all_models_available:\n",
    "        hf_result = hf_analyzer.analyze_text(text)\n",
    "        ensemble_result = ensemble_analyzer.analyze_text(text)\n",
    "        \n",
    "        result.update({\n",
    "            \"huggingface_sentiment\": hf_result[\"sentiment\"],\n",
    "            \"huggingface_confidence\": hf_result[\"confidence\"],\n",
    "            \"ensemble_sentiment\": ensemble_result[\"sentiment\"],\n",
    "            \"ensemble_confidence\": ensemble_result[\"confidence\"],\n",
    "        })\n",
    "    \n",
    "    results.append(result)\n",
    "\n",
    "# Display results in a dataframe\n",
    "results_df = pd.DataFrame(results)\n",
    "results_df"
   ]
  },
  {
   "cell_type": "markdown",
   "metadata": {},
   "source": [
    "## Text Preprocessing\n",
    "\n",
    "Let's examine how the text preprocessing works."
   ]
  },
  {
   "cell_type": "code",
   "execution_count": 4,
   "metadata": {},
   "outputs": [
    {
     "name": "stdout",
     "output_type": "stream",
     "text": [
      "Raw text:\n",
      "Check out this new article about $TSLA at https://finance.example.com/tesla-surge! \n",
      "The stock is UP 5% today. <b>Analysts predict</b> further growth #bullish $$$\n",
      "\n",
      "Processed text:\n",
      "check out this new article about $tsla at the stock is up 5% today. analysts predict further growth bullish $$$\n"
     ]
    }
   ],
   "source": [
    "# Sample text with elements that need preprocessing\n",
    "raw_text = \"\"\"Check out this new article about $TSLA at https://finance.example.com/tesla-surge! \n",
    "The stock is UP 5% today. <b>Analysts predict</b> further growth #bullish $$$\"\"\"\n",
    "\n",
    "# Preprocess the text\n",
    "processed_text = nltk_analyzer.preprocess_text(raw_text)\n",
    "\n",
    "print(\"Raw text:\")\n",
    "print(raw_text)\n",
    "print(\"\\nProcessed text:\")\n",
    "print(processed_text)"
   ]
  },
  {
   "cell_type": "markdown",
   "metadata": {},
   "source": [
    "## Analyzing Multiple News Articles\n",
    "\n",
    "Let's see how we can analyze a collection of news articles and social media posts."
   ]
  },
  {
   "cell_type": "code",
   "execution_count": 5,
   "metadata": {},
   "outputs": [
    {
     "name": "stdout",
     "output_type": "stream",
     "text": [
      "Overall Sentiment Analysis Results:\n",
      "Dominant Sentiment: positive\n",
      "Confidence: 0.44\n",
      "\n",
      "Sentiment Distribution:\n",
      "positive_percent: 66.7%\n",
      "neutral_percent: 11.1%\n",
      "negative_percent: 22.2%\n"
     ]
    }
   ],
   "source": [
    "# Sample news articles\n",
    "news_articles = [\n",
    "    {\n",
    "        \"title\": \"TechCorp Exceeds Q4 Earnings Expectations\",\n",
    "        \"content\": \"TechCorp reported Q4 earnings of $1.25 per share, exceeding analyst expectations of $0.95 per share. Revenue grew by 18% year-over-year, driven by strong performance in cloud services and AI solutions. The company also announced a stock buyback program.\"\n",
    "    },\n",
    "    {\n",
    "        \"title\": \"GlobalBank Shares Drop After Fed Announcement\",\n",
    "        \"content\": \"GlobalBank shares fell 3% following the Federal Reserve's announcement of increased capital requirements for large financial institutions. Analysts expect the new regulations to impact profit margins across the banking sector, with GlobalBank particularly exposed due to its recent expansion.\"\n",
    "    },\n",
    "    {\n",
    "        \"title\": \"RetailCorp Announces Store Closures\",\n",
    "        \"content\": \"RetailCorp plans to close 50 underperforming stores nationwide as part of a restructuring initiative. The company expects the closures to result in $200 million in annual cost savings. While some analysts view this as a necessary step, others question the company's long-term strategy in the e-commerce era.\"\n",
    "    },\n",
    "    {\n",
    "        \"title\": \"PharmaCo's New Drug Receives FDA Approval\",\n",
    "        \"content\": \"PharmaCo announced today that its breakthrough cancer treatment has received FDA approval. The drug, which showed a 40% improvement in patient outcomes during clinical trials, is expected to generate over $1 billion in annual sales. The company's stock jumped 12% on the news.\"\n",
    "    }\n",
    "]\n",
    "\n",
    "# Sample social media posts\n",
    "social_posts = [\n",
    "    {\"content\": \"Just bought more $TECH shares. Their new AI product is amazing! #bullish\"},\n",
    "    {\"content\": \"$BANK is in serious trouble with these new regulations. Selling my position tomorrow. #bearish\"},\n",
    "    {\"content\": \"$RETAIL closing stores is actually good for their bottom line. Smart move by management.\"},\n",
    "    {\"content\": \"$PHARMA approval was expected. Nothing special here, probably overvalued now.\"},\n",
    "    {\"content\": \"Market seems overextended. Moving to cash until we see a correction. #cautious\"}\n",
    "]\n",
    "\n",
    "# Analyze all sources using NLTK analyzer (fastest)\n",
    "all_results = nltk_analyzer.analyze_sources(news_articles, social_posts)\n",
    "\n",
    "# Display results summary\n",
    "print(\"Overall Sentiment Analysis Results:\")\n",
    "print(f\"Dominant Sentiment: {all_results['overall']['dominant_sentiment']}\")\n",
    "print(f\"Confidence: {all_results['overall']['confidence']:.2f}\\n\")\n",
    "\n",
    "print(\"Sentiment Distribution:\")\n",
    "for sentiment, percentage in all_results['overall']['distribution'].items():\n",
    "    print(f\"{sentiment}: {percentage:.1f}%\")"
   ]
  },
  {
   "cell_type": "markdown",
   "metadata": {},
   "source": [
    "## Visualizing Sentiment Results"
   ]
  },
  {
   "cell_type": "code",
   "execution_count": 6,
   "metadata": {},
   "outputs": [
    {
     "data": {
      "image/png": "[encoded data removed]",
      "text/plain": [
       "<Figure size 1000x600 with 2 Axes>"
      ]
     },
     "metadata": {},
     "output_type": "display_data"
    },
    {
     "data": {
      "image/png": "[encoded data removed]",
      "text/plain": [
       "<Figure size 1000x600 with 1 Axes>"
      ]
     },
     "metadata": {},
     "output_type": "display_data"
    }
   ],
   "source": [
    "# Create sentiment visualization\n",
    "plt.figure(figsize=(10, 6))\n",
    "\n",
    "# Distribution pie chart\n",
    "plt.subplot(1, 2, 1)\n",
    "sentiment_labels = ['Positive', 'Neutral', 'Negative']\n",
    "sentiment_values = [\n",
    "    all_results['overall']['distribution']['positive_percent'],\n",
    "    all_results['overall']['distribution']['neutral_percent'],\n",
    "    all_results['overall']['distribution']['negative_percent']\n",
    "]\n",
    "colors = ['#2ecc71', '#95a5a6', '#e74c3c']\n",
    "plt.pie(sentiment_values, labels=sentiment_labels, colors=colors, autopct='%1.1f%%', startangle=90)\n",
    "plt.axis('equal')\n",
    "plt.title('Overall Sentiment Distribution')\n",
    "\n",
    "# News vs social comparison bar chart\n",
    "plt.subplot(1, 2, 2)\n",
    "sentiment_counts = {\n",
    "    'news': {'positive': 0, 'neutral': 0, 'negative': 0},\n",
    "    'social': {'positive': 0, 'neutral': 0, 'negative': 0}\n",
    "}\n",
    "\n",
    "# Count sentiments for news articles\n",
    "for article in all_results['news']:\n",
    "    sentiment = article['combined_sentiment']\n",
    "    sentiment_counts['news'][sentiment] += 1\n",
    "\n",
    "# Count sentiments for social posts\n",
    "for post in all_results['social']:\n",
    "    sentiment = post['sentiment']\n",
    "    sentiment_counts['social'][sentiment] += 1\n",
    "\n",
    "# Create grouped bar chart\n",
    "x = np.arange(3)\n",
    "width = 0.35\n",
    "fig, ax = plt.subplots(figsize=(10, 6))\n",
    "\n",
    "news_counts = [sentiment_counts['news']['positive'], \n",
    "               sentiment_counts['news']['neutral'], \n",
    "               sentiment_counts['news']['negative']]\n",
    "\n",
    "social_counts = [sentiment_counts['social']['positive'], \n",
    "                 sentiment_counts['social']['neutral'], \n",
    "                 sentiment_counts['social']['negative']]\n",
    "\n",
    "rects1 = ax.bar(x - width/2, news_counts, width, label='News Articles', color='#3498db')\n",
    "rects2 = ax.bar(x + width/2, social_counts, width, label='Social Posts', color='#9b59b6')\n",
    "\n",
    "ax.set_ylabel('Count')\n",
    "ax.set_title('Sentiment by Source Type')\n",
    "ax.set_xticks(x)\n",
    "ax.set_xticklabels(['Positive', 'Neutral', 'Negative'])\n",
    "ax.legend()\n",
    "\n",
    "# Function to add labels on bars\n",
    "def autolabel(rects):\n",
    "    for rect in rects:\n",
    "        height = rect.get_height()\n",
    "        ax.annotate('{}'.format(height),\n",
    "                    xy=(rect.get_x() + rect.get_width() / 2, height),\n",
    "                    xytext=(0, 3),  # 3 points vertical offset\n",
    "                    textcoords=\"offset points\",\n",
    "                    ha='center', va='bottom')\n",
    "\n",
    "autolabel(rects1)\n",
    "autolabel(rects2)\n",
    "\n",
    "plt.tight_layout()\n",
    "plt.show()"
   ]
  },
  {
   "cell_type": "markdown",
   "metadata": {},
   "source": [
    "## Sentiment Validation\n",
    "\n",
    "Validate the sentiment analyzer against a small labeled dataset."
   ]
  },
  {
   "cell_type": "code",
   "execution_count": 7,
   "metadata": {},
   "outputs": [
    {
     "name": "stderr",
     "output_type": "stream",
     "text": [
      "You seem to be using the pipelines sequentially on GPU. In order to maximize efficiency please use a dataset\n"
     ]
    },
    {
     "name": "stdout",
     "output_type": "stream",
     "text": [
      "NLTK Analyzer Validation:\n",
      "Overall Accuracy: 0.50\n",
      "\n",
      "Class-specific metrics:\n",
      "  Positive:\n",
      "    Precision: 0.50\n",
      "    Recall: 0.33\n",
      "    F1 Score: 0.40\n",
      "  Negative:\n",
      "    Precision: 1.00\n",
      "    Recall: 0.17\n",
      "    F1 Score: 0.29\n",
      "  Neutral:\n",
      "    Precision: 0.20\n",
      "    Recall: 0.67\n",
      "    F1 Score: 0.31\n",
      "\n",
      "Hugging Face Analyzer Validation:\n",
      "Overall Accuracy: 0.90\n",
      "\n",
      "Ensemble Analyzer Validation:\n",
      "Overall Accuracy: 0.90\n"
     ]
    }
   ],
   "source": [
    "# Small labeled test dataset\n",
    "test_data = [\n",
    "    {\"text\": \"Profits are up by 25%, exceeding analyst expectations.\", \"label\": \"positive\"},\n",
    "    {\"text\": \"The company is filing for bankruptcy protection.\", \"label\": \"negative\"},\n",
    "    {\"text\": \"Trading volume was average today with minimal price movement.\", \"label\": \"neutral\"},\n",
    "    {\"text\": \"Investors are increasingly optimistic about the company's growth prospects.\", \"label\": \"positive\"},\n",
    "    {\"text\": \"Regulatory concerns continue to weigh on the stock price.\", \"label\": \"negative\"},\n",
    "    {\"text\": \"The market awaits further guidance from the Federal Reserve.\", \"label\": \"neutral\"},\n",
    "    {\"text\": \"New strategic partnership announced with major tech company.\", \"label\": \"positive\"},\n",
    "    {\"text\": \"Job cuts and restructuring efforts are underway.\", \"label\": \"negative\"},\n",
    "    {\"text\": \"The company met earnings estimates for Q2.\", \"label\": \"neutral\"},\n",
    "    {\"text\": \"Revolutionary product outperforming competitors in initial sales.\", \"label\": \"positive\"}\n",
    "]\n",
    "\n",
    "# Validate NLTK analyzer\n",
    "nltk_validation = nltk_analyzer.validate_accuracy(test_data)\n",
    "\n",
    "print(\"NLTK Analyzer Validation:\")\n",
    "print(f\"Overall Accuracy: {nltk_validation['accuracy']:.2f}\")\n",
    "\n",
    "print(\"\\nClass-specific metrics:\")\n",
    "for sentiment, metrics in nltk_validation['class_metrics'].items():\n",
    "    print(f\"  {sentiment.capitalize()}:\")\n",
    "    print(f\"    Precision: {metrics['precision']:.2f}\")\n",
    "    print(f\"    Recall: {metrics['recall']:.2f}\")\n",
    "    print(f\"    F1 Score: {metrics['f1_score']:.2f}\")\n",
    "\n",
    "# Optionally validate other analyzers if available\n",
    "if all_models_available:\n",
    "    print(\"\\nHugging Face Analyzer Validation:\")\n",
    "    hf_validation = hf_analyzer.validate_accuracy(test_data)\n",
    "    print(f\"Overall Accuracy: {hf_validation['accuracy']:.2f}\")\n",
    "    \n",
    "    print(\"\\nEnsemble Analyzer Validation:\")\n",
    "    ensemble_validation = ensemble_analyzer.validate_accuracy(test_data)\n",
    "    print(f\"Overall Accuracy: {ensemble_validation['accuracy']:.2f}\")"
   ]
  },
  {
   "cell_type": "markdown",
   "metadata": {},
   "source": [
    "## Conclusion\n",
    "\n",
    "In this notebook, we've demonstrated how to use the SentimentAnalyzer class for:\n",
    "\n",
    "1. Analyzing sentiment in individual financial texts\n",
    "2. Processing and cleaning text data\n",
    "3. Analyzing collections of news articles and social media posts\n",
    "4. Visualizing sentiment distribution and comparing different sources\n",
    "5. Validating sentiment analysis accuracy against labeled data\n",
    "\n",
    "The sentiment analyzer can be used with different underlying models:\n",
    "- NLTK's VADER (fast, rule-based approach good for short texts)\n",
    "- Hugging Face transformers (more accurate but computationally intensive)\n",
    "- Ensemble approach (combines both methods for better accuracy)\n",
    "\n",
    "This analysis provides valuable insights into market sentiment that can complement technical and fundamental analysis for investment decisions."
   ]
  }
 ],
 "metadata": {
  "kernelspec": {
   "display_name": ".venv",
   "language": "python",
   "name": "python3"
  },
  "language_info": {
   "codemirror_mode": {
    "name": "ipython",
    "version": 3
   },
   "file_extension": ".py",
   "mimetype": "text/x-python",
   "name": "python",
   "nbconvert_exporter": "python",
   "pygments_lexer": "ipython3",
   "version": "3.10.13"
  }
 },
 "nbformat": 4,
 "nbformat_minor": 2
}
