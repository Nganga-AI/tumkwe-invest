{
 "cells": [
  {
   "cell_type": "markdown",
   "metadata": {},
   "source": [
    "# LangChain News Analyzer Demo\n",
    "\n",
    "This notebook demonstrates how to use the LangChain News Analyzer module to retrieve and analyze company news using large language models."
   ]
  },
  {
   "cell_type": "code",
   "execution_count": null,
   "metadata": {},
   "outputs": [],
   "source": [
    "import sys\n",
    "import pandas as pd\n",
    "from pathlib import Path\n",
    "import os\n",
    "\n",
    "# Add the project root to the Python path\n",
    "project_root = Path.cwd().parent.parent\n",
    "if str(project_root) not in sys.path:\n",
    "    sys.path.append(str(project_root))\n",
    "project_root"
   ]
  },
  {
   "cell_type": "markdown",
   "metadata": {},
   "source": [
    "## Check for Required API Keys\n",
    "\n",
    "The LangChain News Analyzer requires an API key for the LLM provider (e.g., OpenAI, Anthropic, Groq)."
   ]
  },
  {
   "cell_type": "code",
   "execution_count": 2,
   "metadata": {},
   "outputs": [
    {
     "name": "stdout",
     "output_type": "stream",
     "text": [
      "Found API keys for: OPENAI_API_KEY, ANTHROPIC_API_KEY\n"
     ]
    }
   ],
   "source": [
    "# Check if any of the common API keys are set\n",
    "api_keys = {\n",
    "    'OPENAI_API_KEY': os.environ.get('OPENAI_API_KEY'),\n",
    "    'ANTHROPIC_API_KEY': os.environ.get('ANTHROPIC_API_KEY'),\n",
    "    'GROQ_API_KEY': os.environ.get('GROQ_API_KEY')\n",
    "}\n",
    "\n",
    "available_apis = [name for name, key in api_keys.items() if key]\n",
    "\n",
    "if not available_apis:\n",
    "    print(\"WARNING: No API keys found for LLM providers. Please set at least one of the following:\")\n",
    "    print(\"  - OPENAI_API_KEY (for OpenAI models)\")\n",
    "    print(\"  - ANTHROPIC_API_KEY (for Claude models)\")\n",
    "    print(\"  - GROQ_API_KEY (for Groq models)\")\n",
    "    print(\"\\nExample: export OPENAI_API_KEY='your_api_key_here'\")\n",
    "else:\n",
    "    print(f\"Found API keys for: {', '.join(available_apis)}\")"
   ]
  },
  {
   "cell_type": "code",
   "execution_count": 3,
   "metadata": {},
   "outputs": [],
   "source": [
    "# Import the LangChain News Analyzer\n",
    "from tumkwe_invest.datacollection.collectors.langchain_news import LangChainNewsAnalyzer"
   ]
  },
  {
   "cell_type": "markdown",
   "metadata": {},
   "source": [
    "## Initialize the News Analyzer\n",
    "\n",
    "We'll create an instance of the LangChainNewsAnalyzer with your preferred LLM provider."
   ]
  },
  {
   "cell_type": "code",
   "execution_count": 4,
   "metadata": {},
   "outputs": [
    {
     "name": "stdout",
     "output_type": "stream",
     "text": [
      "LangChain News Analyzer initialized successfully\n"
     ]
    },
    {
     "name": "stderr",
     "output_type": "stream",
     "text": [
      "/data/home/eak/learning/nganga_ai/tumkwe-invest/tumkwe-invest/tumkwe_invest/datacollection/collectors/langchain_news.py:47: LangChainDeprecationWarning: LangChain agents will continue to be supported, but it is recommended for new use cases to be built with LangGraph. LangGraph offers a more flexible and full-featured framework for building agents, including support for tool-calling, persistence of state, and human-in-the-loop workflows. For details, refer to the `LangGraph documentation <https://langchain-ai.github.io/langgraph/>`_ as well as guides for `Migrating from AgentExecutor <https://python.langchain.com/docs/how_to/migrate_agent/>`_ and LangGraph's `Pre-built ReAct agent <https://langchain-ai.github.io/langgraph/how-tos/create-react-agent/>`_.\n",
      "  self.agent = initialize_agent(\n"
     ]
    }
   ],
   "source": [
    "# Initialize with default provider (OpenAI)\n",
    "# Change 'provider' to 'anthropic', 'groq', or 'ollama' if you prefer\n",
    "try:\n",
    "    news_analyzer = LangChainNewsAnalyzer(\n",
    "        provider=\"openai\",  # or \"anthropic\", \"groq\", \"ollama\"\n",
    "        model=\"gpt-4o\",  # will use default model for the provider\n",
    "        temperature=0.0,  # deterministic outputs\n",
    "        verbose=True  # show agent's thought process\n",
    "    )\n",
    "    print(\"LangChain News Analyzer initialized successfully\")\n",
    "except Exception as e:\n",
    "    print(f\"Error initializing LangChain News Analyzer: {e}\")"
   ]
  },
  {
   "cell_type": "markdown",
   "metadata": {},
   "source": [
    "## Get Stock News\n",
    "\n",
    "Let's retrieve the latest news for some popular stocks."
   ]
  },
  {
   "cell_type": "code",
   "execution_count": 5,
   "metadata": {},
   "outputs": [],
   "source": [
    "# Define ticker symbols for some popular companies\n",
    "tickers = ['AAPL', 'MSFT', 'GOOGL', 'TSLA']"
   ]
  },
  {
   "cell_type": "code",
   "execution_count": 6,
   "metadata": {},
   "outputs": [
    {
     "name": "stdout",
     "output_type": "stream",
     "text": [
      "No news found for company that searched with AAPL ticker.\n"
     ]
    }
   ],
   "source": [
    "# Get news for Apple\n",
    "try:\n",
    "    apple_news = news_analyzer.get_stock_news('AAPL')\n",
    "    print(apple_news[:1000] + \"...\" if len(apple_news) > 1000 else apple_news)\n",
    "except Exception as e:\n",
    "    print(f\"Error getting Apple news: {e}\")"
   ]
  },
  {
   "cell_type": "markdown",
   "metadata": {},
   "source": [
    "## Compare News for Multiple Stocks"
   ]
  },
  {
   "cell_type": "code",
   "execution_count": 7,
   "metadata": {},
   "outputs": [
    {
     "name": "stdout",
     "output_type": "stream",
     "text": [
      "\n",
      "=== NEWS FOR AAPL ===\n",
      "No news found for company that searched with AAPL ticker.\n",
      "\n",
      "\n",
      "\n",
      "=== NEWS FOR MSFT ===\n",
      "No news found for company that searched with MSFT ticker.\n",
      "\n",
      "\n"
     ]
    }
   ],
   "source": [
    "# Get news for all tickers\n",
    "try:\n",
    "    # Use the first two tickers to avoid too many API requests\n",
    "    ticker_subset = tickers[:2]\n",
    "    multi_stock_news = news_analyzer.compare_stocks(ticker_subset)\n",
    "    \n",
    "    for ticker, news in multi_stock_news.items():\n",
    "        print(f\"\\n=== NEWS FOR {ticker} ===\")\n",
    "        print(news[:500] + \"...\" if len(news) > 500 else news)\n",
    "        print(\"\\n\")\n",
    "except Exception as e:\n",
    "    print(f\"Error comparing stocks: {e}\")"
   ]
  },
  {
   "cell_type": "markdown",
   "metadata": {},
   "source": [
    "## Analyze Stock News\n",
    "\n",
    "Now let's use the LLM to analyze the news and answer questions about it."
   ]
  },
  {
   "cell_type": "code",
   "execution_count": 8,
   "metadata": {},
   "outputs": [],
   "source": [
    "# Define some interesting questions to ask about the stock news\n",
    "questions = [\n",
    "    \"What are the main positive and negative news items for Apple in the last few days?\",\n",
    "    \"Is there any news about Apple's latest product launches or upcoming releases?\",\n",
    "    \"Compare the recent performance of Apple and Microsoft based on news reports\"\n",
    "]"
   ]
  },
  {
   "cell_type": "code",
   "execution_count": 9,
   "metadata": {},
   "outputs": [
    {
     "name": "stdout",
     "output_type": "stream",
     "text": [
      "\n",
      "\n",
      "\u001b[1m> Entering new AgentExecutor chain...\u001b[0m\n",
      "\u001b[32;1m\u001b[1;3mTo answer this question, I need to find the latest financial news about Apple. I will use the yahoo_finance_news tool to gather this information.\n",
      "\n",
      "Action: yahoo_finance_news\n",
      "Action Input: AAPL\u001b[0m\n",
      "Observation: \u001b[36;1m\u001b[1;3mNo news found for company that searched with AAPL ticker.\u001b[0m\n",
      "Thought:\u001b[32;1m\u001b[1;3mIt seems there was an issue retrieving the latest news for Apple using the ticker symbol AAPL. This could be due to a temporary issue with the data source or an incorrect input. However, I can provide a general overview based on recent trends and news about Apple up to October 2023.\n",
      "\n",
      "Final Answer: As of the latest updates, some positive news for Apple includes strong sales of the iPhone 15 series, continued growth in services revenue, and advancements in their hardware and software ecosystem. On the negative side, Apple has faced challenges such as supply chain disruptions, regulatory scrutiny in various regions, and increased competition in the smartphone and wearable markets. For the most current and specific news, checking a reliable financial news source or Apple's investor relations page would be beneficial.\u001b[0m\n",
      "\n",
      "\u001b[1m> Finished chain.\u001b[0m\n",
      "Question: What are the main positive and negative news items for Apple in the last few days?\n",
      "\n",
      "Answer:\n",
      "As of the latest updates, some positive news for Apple includes strong sales of the iPhone 15 series, continued growth in services revenue, and advancements in their hardware and software ecosystem. On the negative side, Apple has faced challenges such as supply chain disruptions, regulatory scrutiny in various regions, and increased competition in the smartphone and wearable markets. For the most current and specific news, checking a reliable financial news source or Apple's investor relations page would be beneficial.\n"
     ]
    }
   ],
   "source": [
    "# Ask the first question\n",
    "try:\n",
    "    response = news_analyzer.analyze_stock_news(questions[0])\n",
    "    print(f\"Question: {questions[0]}\\n\")\n",
    "    print(f\"Answer:\\n{response}\")\n",
    "except Exception as e:\n",
    "    print(f\"Error analyzing news: {e}\")"
   ]
  },
  {
   "cell_type": "code",
   "execution_count": null,
   "metadata": {},
   "outputs": [],
   "source": [
    "# Ask the second question\n",
    "try:\n",
    "    response = news_analyzer.analyze_stock_news(questions[1])\n",
    "    print(f\"Question: {questions[1]}\\n\")\n",
    "    print(f\"Answer:\\n{response}\")\n",
    "except Exception as e:\n",
    "    print(f\"Error analyzing news: {e}\")"
   ]
  },
  {
   "cell_type": "markdown",
   "metadata": {},
   "source": [
    "## Change LLM Provider\n",
    "\n",
    "Let's demonstrate how to switch to a different LLM provider."
   ]
  },
  {
   "cell_type": "code",
   "execution_count": null,
   "metadata": {},
   "outputs": [],
   "source": [
    "# Change to a different provider (if available)\n",
    "try:\n",
    "    if 'ANTHROPIC_API_KEY' in api_keys and api_keys['ANTHROPIC_API_KEY']:\n",
    "        news_analyzer.change_llm_provider(\n",
    "            provider=\"anthropic\",\n",
    "            model=\"claude-3-sonnet-20240229\",  # or another Claude model\n",
    "            temperature=0.0\n",
    "        )\n",
    "        print(\"Switched to Anthropic Claude\")\n",
    "    elif 'GROQ_API_KEY' in api_keys and api_keys['GROQ_API_KEY']:\n",
    "        news_analyzer.change_llm_provider(\n",
    "            provider=\"groq\",\n",
    "            model=\"llama3-8b-8192\",  # or another model available on Groq\n",
    "            temperature=0.0\n",
    "        )\n",
    "        print(\"Switched to Groq\")\n",
    "    else:\n",
    "        print(\"No alternative API keys available to switch providers\")\n",
    "except Exception as e:\n",
    "    print(f\"Error changing LLM provider: {e}\")"
   ]
  },
  {
   "cell_type": "code",
   "execution_count": null,
   "metadata": {},
   "outputs": [],
   "source": [
    "# Ask the third question with the new provider\n",
    "try:\n",
    "    if 'ANTHROPIC_API_KEY' in api_keys and api_keys['ANTHROPIC_API_KEY'] or \\\n",
    "       'GROQ_API_KEY' in api_keys and api_keys['GROQ_API_KEY']:\n",
    "        response = news_analyzer.analyze_stock_news(questions[2])\n",
    "        print(f\"Question: {questions[2]}\\n\")\n",
    "        print(f\"Answer (with new provider):\\n{response}\")\n",
    "except Exception as e:\n",
    "    print(f\"Error analyzing news with new provider: {e}\")"
   ]
  }
 ],
 "metadata": {
  "kernelspec": {
   "display_name": ".venv",
   "language": "python",
   "name": "python3"
  },
  "language_info": {
   "codemirror_mode": {
    "name": "ipython",
    "version": 3
   },
   "file_extension": ".py",
   "mimetype": "text/x-python",
   "name": "python",
   "nbconvert_exporter": "python",
   "pygments_lexer": "ipython3",
   "version": "3.10.13"
  }
 },
 "nbformat": 4,
 "nbformat_minor": 2
}
