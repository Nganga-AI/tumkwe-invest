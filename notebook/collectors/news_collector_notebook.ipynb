{
 "cells": [
  {
   "cell_type": "markdown",
   "metadata": {},
   "source": [
    "# News Collector Demo\n",
    "\n",
    "This notebook demonstrates how to use the News API collector module to retrieve company news articles."
   ]
  },
  {
   "cell_type": "code",
   "execution_count": 1,
   "metadata": {},
   "outputs": [
    {
     "data": {
      "text/plain": [
       "PosixPath('/data/home/eak/learning/nganga_ai/tumkwe-invest/tumkwe-invest')"
      ]
     },
     "execution_count": 1,
     "metadata": {},
     "output_type": "execute_result"
    }
   ],
   "source": [
    "import sys\n",
    "import pandas as pd\n",
    "from datetime import datetime\n",
    "from pathlib import Path\n",
    "\n",
    "# Add the project root to the Python path\n",
    "project_root = Path.cwd().parent.parent\n",
    "if str(project_root) not in sys.path:\n",
    "    sys.path.append(str(project_root))\n",
    "project_root"
   ]
  },
  {
   "cell_type": "code",
   "execution_count": 2,
   "metadata": {},
   "outputs": [],
   "source": [
    "# Import the news_collector module\n",
    "from tumkwe_invest.datacollection.collectors.news_collector import get_company_news"
   ]
  },
  {
   "cell_type": "markdown",
   "metadata": {},
   "source": [
    "## Check if NEWS_API_KEY is Set\n",
    "\n",
    "This module requires a News API key to be set in your environment."
   ]
  },
  {
   "cell_type": "code",
   "execution_count": 3,
   "metadata": {},
   "outputs": [
    {
     "name": "stdout",
     "output_type": "stream",
     "text": [
      "NEWS_API_KEY is set, you can use the news collector.\n"
     ]
    }
   ],
   "source": [
    "import os\n",
    "\n",
    "# Check if NEWS_API_KEY is set\n",
    "news_api_key = os.environ.get('NEWS_API_KEY')\n",
    "if not news_api_key:\n",
    "    print(\"WARNING: NEWS_API_KEY environment variable is not set.\")\n",
    "    print(\"You need to set your News API key to use this module.\")\n",
    "    print(\"You can get a free API key at https://newsapi.org/register\")\n",
    "    print(\"\\nExample: export NEWS_API_KEY='your_api_key_here'\")\n",
    "else:\n",
    "    print(\"NEWS_API_KEY is set, you can use the news collector.\")"
   ]
  },
  {
   "cell_type": "markdown",
   "metadata": {},
   "source": [
    "## Get News Articles for Companies\n",
    "\n",
    "Let's fetch news for a few example companies using the News API."
   ]
  },
  {
   "cell_type": "code",
   "execution_count": 4,
   "metadata": {},
   "outputs": [],
   "source": [
    "# Define companies to search for\n",
    "companies = [\n",
    "    {\"symbol\": \"AAPL\", \"name\": \"Apple\"},\n",
    "    {\"symbol\": \"MSFT\", \"name\": \"Microsoft\"},\n",
    "    {\"symbol\": \"GOOGL\", \"name\": \"Google\"}\n",
    "]\n",
    "\n",
    "# Days to look back for news\n",
    "days_lookback = 7"
   ]
  },
  {
   "cell_type": "code",
   "execution_count": 5,
   "metadata": {},
   "outputs": [
    {
     "name": "stdout",
     "output_type": "stream",
     "text": [
      "Retrieved 14 news articles for Apple\n"
     ]
    }
   ],
   "source": [
    "# Get news for Apple\n",
    "apple_news = get_company_news(\n",
    "    company_symbol=companies[0][\"symbol\"],\n",
    "    company_name=companies[0][\"name\"],\n",
    "    days=days_lookback\n",
    ")\n",
    "\n",
    "print(f\"Retrieved {len(apple_news)} news articles for {companies[0]['name']}\")"
   ]
  },
  {
   "cell_type": "code",
   "execution_count": 6,
   "metadata": {},
   "outputs": [
    {
     "data": {
      "text/html": [
       "<div>\n",
       "<style scoped>\n",
       "    .dataframe tbody tr th:only-of-type {\n",
       "        vertical-align: middle;\n",
       "    }\n",
       "\n",
       "    .dataframe tbody tr th {\n",
       "        vertical-align: top;\n",
       "    }\n",
       "\n",
       "    .dataframe thead th {\n",
       "        text-align: right;\n",
       "    }\n",
       "</style>\n",
       "<table border=\"1\" class=\"dataframe\">\n",
       "  <thead>\n",
       "    <tr style=\"text-align: right;\">\n",
       "      <th></th>\n",
       "      <th>title</th>\n",
       "      <th>publication</th>\n",
       "      <th>date</th>\n",
       "      <th>summary</th>\n",
       "      <th>url</th>\n",
       "      <th>has_content</th>\n",
       "    </tr>\n",
       "  </thead>\n",
       "  <tbody>\n",
       "    <tr>\n",
       "      <th>0</th>\n",
       "      <td>Apple has revealed a Passwords app vulnerabili...</td>\n",
       "      <td>The Verge</td>\n",
       "      <td>2025-03-18 21:27:47</td>\n",
       "      <td>Apple fixed a bug in the iOS 18.2 Passwords ap...</td>\n",
       "      <td>https://www.theverge.com/news/632108/apple-ios...</td>\n",
       "      <td>False</td>\n",
       "    </tr>\n",
       "    <tr>\n",
       "      <th>1</th>\n",
       "      <td>The fake promise of better Siri</td>\n",
       "      <td>The Verge</td>\n",
       "      <td>2025-03-14 12:50:21</td>\n",
       "      <td>Apple Intelligence is technically lots of thin...</td>\n",
       "      <td>https://www.theverge.com/the-vergecast/629652/...</td>\n",
       "      <td>False</td>\n",
       "    </tr>\n",
       "    <tr>\n",
       "      <th>2</th>\n",
       "      <td>Apple will soon support encrypted RCS messagin...</td>\n",
       "      <td>The Verge</td>\n",
       "      <td>2025-03-14 10:05:04</td>\n",
       "      <td>iPhone and Android users will be able to excha...</td>\n",
       "      <td>https://www.theverge.com/news/629620/apple-iph...</td>\n",
       "      <td>False</td>\n",
       "    </tr>\n",
       "    <tr>\n",
       "      <th>3</th>\n",
       "      <td>Ford hires a Twitch and PlayStation veteran to...</td>\n",
       "      <td>The Verge</td>\n",
       "      <td>2025-03-14 14:40:48</td>\n",
       "      <td>Ford has hired a former Twitch, PlayStation, a...</td>\n",
       "      <td>https://www.theverge.com/news/629710/ford-digi...</td>\n",
       "      <td>False</td>\n",
       "    </tr>\n",
       "    <tr>\n",
       "      <th>4</th>\n",
       "      <td>The beautiful, retro tech of two theatrical so...</td>\n",
       "      <td>The Verge</td>\n",
       "      <td>2025-03-20 14:00:11</td>\n",
       "      <td>When asked what they do for work, creative cou...</td>\n",
       "      <td>https://www.theverge.com/tech/631922/sound-des...</td>\n",
       "      <td>False</td>\n",
       "    </tr>\n",
       "    <tr>\n",
       "      <th>5</th>\n",
       "      <td>House GOP subpoenas Big Tech for evidence that...</td>\n",
       "      <td>The Verge</td>\n",
       "      <td>2025-03-14 18:50:13</td>\n",
       "      <td>On Friday, Rep. Jim Jordan, the Republican Cha...</td>\n",
       "      <td>https://www.theverge.com/news/629831/subpoena-...</td>\n",
       "      <td>False</td>\n",
       "    </tr>\n",
       "    <tr>\n",
       "      <th>6</th>\n",
       "      <td>The iPhone 17 Air makes other models look chun...</td>\n",
       "      <td>The Verge</td>\n",
       "      <td>2025-03-16 14:20:17</td>\n",
       "      <td>A set of iPhone 17 dummies appeared last night...</td>\n",
       "      <td>https://www.theverge.com/news/630917/iphone-17...</td>\n",
       "      <td>False</td>\n",
       "    </tr>\n",
       "    <tr>\n",
       "      <th>7</th>\n",
       "      <td>SwitchBot’s next smart hub comes with a contro...</td>\n",
       "      <td>The Verge</td>\n",
       "      <td>2025-03-16 22:33:41</td>\n",
       "      <td>Smart home company SwitchBot is preparing a ne...</td>\n",
       "      <td>https://www.theverge.com/news/630987/switchbot...</td>\n",
       "      <td>False</td>\n",
       "    </tr>\n",
       "    <tr>\n",
       "      <th>8</th>\n",
       "      <td>This watch has Pong and Missile Command instea...</td>\n",
       "      <td>The Verge</td>\n",
       "      <td>2025-03-18 21:02:34</td>\n",
       "      <td>Atari is now selling a smartwatch that priorit...</td>\n",
       "      <td>https://www.theverge.com/news/632077/atari-260...</td>\n",
       "      <td>False</td>\n",
       "    </tr>\n",
       "    <tr>\n",
       "      <th>9</th>\n",
       "      <td>OpenAI and Google ask the government to let th...</td>\n",
       "      <td>The Verge</td>\n",
       "      <td>2025-03-14 19:44:09</td>\n",
       "      <td>OpenAI and Google are pushing the US governmen...</td>\n",
       "      <td>https://www.theverge.com/news/630079/openai-go...</td>\n",
       "      <td>False</td>\n",
       "    </tr>\n",
       "    <tr>\n",
       "      <th>10</th>\n",
       "      <td>A bad movie full of big ideas about tech</td>\n",
       "      <td>The Verge</td>\n",
       "      <td>2025-03-14 18:42:50</td>\n",
       "      <td>Hi, friends! Welcome to Installer No. 75, your...</td>\n",
       "      <td>https://www.theverge.com/installer-newsletter/...</td>\n",
       "      <td>False</td>\n",
       "    </tr>\n",
       "    <tr>\n",
       "      <th>11</th>\n",
       "      <td>Great savings on the EcoFlow Delta Pro 3, whic...</td>\n",
       "      <td>The Verge</td>\n",
       "      <td>2025-03-17 19:20:15</td>\n",
       "      <td>I don’t want to sound alarmist or anything (al...</td>\n",
       "      <td>https://www.theverge.com/good-deals/631237/eco...</td>\n",
       "      <td>False</td>\n",
       "    </tr>\n",
       "    <tr>\n",
       "      <th>12</th>\n",
       "      <td>Google’s Pixel Buds Pro 2 are now $179, their ...</td>\n",
       "      <td>The Verge</td>\n",
       "      <td>2025-03-20 18:35:52</td>\n",
       "      <td>The weather is getting warmer, so it’s time to...</td>\n",
       "      <td>https://www.theverge.com/good-deals/633379/goo...</td>\n",
       "      <td>False</td>\n",
       "    </tr>\n",
       "    <tr>\n",
       "      <th>13</th>\n",
       "      <td>Hear what Horizon Zero Dawn actor Ashly Burch ...</td>\n",
       "      <td>The Verge</td>\n",
       "      <td>2025-03-14 22:07:13</td>\n",
       "      <td>Ashly Burch, the award-winning voice and perfo...</td>\n",
       "      <td>https://www.theverge.com/news/630176/ashly-bur...</td>\n",
       "      <td>False</td>\n",
       "    </tr>\n",
       "  </tbody>\n",
       "</table>\n",
       "</div>"
      ],
      "text/plain": [
       "                                                title publication  \\\n",
       "0   Apple has revealed a Passwords app vulnerabili...   The Verge   \n",
       "1                     The fake promise of better Siri   The Verge   \n",
       "2   Apple will soon support encrypted RCS messagin...   The Verge   \n",
       "3   Ford hires a Twitch and PlayStation veteran to...   The Verge   \n",
       "4   The beautiful, retro tech of two theatrical so...   The Verge   \n",
       "5   House GOP subpoenas Big Tech for evidence that...   The Verge   \n",
       "6   The iPhone 17 Air makes other models look chun...   The Verge   \n",
       "7   SwitchBot’s next smart hub comes with a contro...   The Verge   \n",
       "8   This watch has Pong and Missile Command instea...   The Verge   \n",
       "9   OpenAI and Google ask the government to let th...   The Verge   \n",
       "10           A bad movie full of big ideas about tech   The Verge   \n",
       "11  Great savings on the EcoFlow Delta Pro 3, whic...   The Verge   \n",
       "12  Google’s Pixel Buds Pro 2 are now $179, their ...   The Verge   \n",
       "13  Hear what Horizon Zero Dawn actor Ashly Burch ...   The Verge   \n",
       "\n",
       "                  date                                            summary  \\\n",
       "0  2025-03-18 21:27:47  Apple fixed a bug in the iOS 18.2 Passwords ap...   \n",
       "1  2025-03-14 12:50:21  Apple Intelligence is technically lots of thin...   \n",
       "2  2025-03-14 10:05:04  iPhone and Android users will be able to excha...   \n",
       "3  2025-03-14 14:40:48  Ford has hired a former Twitch, PlayStation, a...   \n",
       "4  2025-03-20 14:00:11  When asked what they do for work, creative cou...   \n",
       "5  2025-03-14 18:50:13  On Friday, Rep. Jim Jordan, the Republican Cha...   \n",
       "6  2025-03-16 14:20:17  A set of iPhone 17 dummies appeared last night...   \n",
       "7  2025-03-16 22:33:41  Smart home company SwitchBot is preparing a ne...   \n",
       "8  2025-03-18 21:02:34  Atari is now selling a smartwatch that priorit...   \n",
       "9  2025-03-14 19:44:09  OpenAI and Google are pushing the US governmen...   \n",
       "10 2025-03-14 18:42:50  Hi, friends! Welcome to Installer No. 75, your...   \n",
       "11 2025-03-17 19:20:15  I don’t want to sound alarmist or anything (al...   \n",
       "12 2025-03-20 18:35:52  The weather is getting warmer, so it’s time to...   \n",
       "13 2025-03-14 22:07:13  Ashly Burch, the award-winning voice and perfo...   \n",
       "\n",
       "                                                  url  has_content  \n",
       "0   https://www.theverge.com/news/632108/apple-ios...        False  \n",
       "1   https://www.theverge.com/the-vergecast/629652/...        False  \n",
       "2   https://www.theverge.com/news/629620/apple-iph...        False  \n",
       "3   https://www.theverge.com/news/629710/ford-digi...        False  \n",
       "4   https://www.theverge.com/tech/631922/sound-des...        False  \n",
       "5   https://www.theverge.com/news/629831/subpoena-...        False  \n",
       "6   https://www.theverge.com/news/630917/iphone-17...        False  \n",
       "7   https://www.theverge.com/news/630987/switchbot...        False  \n",
       "8   https://www.theverge.com/news/632077/atari-260...        False  \n",
       "9   https://www.theverge.com/news/630079/openai-go...        False  \n",
       "10  https://www.theverge.com/installer-newsletter/...        False  \n",
       "11  https://www.theverge.com/good-deals/631237/eco...        False  \n",
       "12  https://www.theverge.com/good-deals/633379/goo...        False  \n",
       "13  https://www.theverge.com/news/630176/ashly-bur...        False  "
      ]
     },
     "metadata": {},
     "output_type": "display_data"
    }
   ],
   "source": [
    "# Display the articles in a DataFrame\n",
    "if apple_news:\n",
    "    news_df = pd.DataFrame([\n",
    "        {\n",
    "            \"title\": article.title,\n",
    "            \"publication\": article.publication,\n",
    "            \"date\": article.date,\n",
    "            \"summary\": article.summary[:100] + \"...\" if len(article.summary) > 100 else article.summary,\n",
    "            \"url\": article.url,\n",
    "            \"has_content\": len(article.content) > 0 if article.content else False\n",
    "        } for article in apple_news\n",
    "    ])\n",
    "    display(news_df)\n",
    "else:\n",
    "    print(\"No news articles found or NEWS_API_KEY not set correctly.\")"
   ]
  },
  {
   "cell_type": "markdown",
   "metadata": {},
   "source": [
    "## Get News for All Companies"
   ]
  },
  {
   "cell_type": "code",
   "execution_count": 7,
   "metadata": {},
   "outputs": [
    {
     "name": "stdout",
     "output_type": "stream",
     "text": [
      "Retrieved 14 news articles for Apple\n",
      "Retrieved 20 news articles for Microsoft\n",
      "Retrieved 15 news articles for Google\n"
     ]
    }
   ],
   "source": [
    "# Collect news for all companies\n",
    "all_news = {}\n",
    "\n",
    "for company in companies:\n",
    "    symbol = company[\"symbol\"]\n",
    "    name = company[\"name\"]\n",
    "    \n",
    "    news = get_company_news(symbol, name, days=days_lookback)\n",
    "    all_news[symbol] = news\n",
    "    print(f\"Retrieved {len(news)} news articles for {name}\")"
   ]
  },
  {
   "cell_type": "code",
   "execution_count": 8,
   "metadata": {},
   "outputs": [
    {
     "name": "stdout",
     "output_type": "stream",
     "text": [
      "Title: Apple has revealed a Passwords app vulnerability that lasted for months\n",
      "Publication: The Verge\n",
      "Date: 2025-03-18 21:27:47\n",
      "\n",
      "Summary:\n",
      "Apple fixed a bug in the iOS 18.2 Passwords app that, for three months starting with the release of iOS 18, made users vulnerable to phishing attacks, according to an Apple security content update spotted by 9to5Mac. Here’s how Apple describes the bug and its…\n",
      "\n",
      "No full content available for this article.\n"
     ]
    }
   ],
   "source": [
    "# Check the content of a specific article\n",
    "if all_news[\"AAPL\"] and len(all_news[\"AAPL\"]) > 0:\n",
    "    article = all_news[\"AAPL\"][0]\n",
    "    print(f\"Title: {article.title}\")\n",
    "    print(f\"Publication: {article.publication}\")\n",
    "    print(f\"Date: {article.date}\")\n",
    "    print(\"\\nSummary:\")\n",
    "    print(article.summary)\n",
    "    \n",
    "    # Show beginning of content if available\n",
    "    if article.content:\n",
    "        content_preview = article.content[:500] + \"...\" if len(article.content) > 500 else article.content\n",
    "        print(\"\\nContent preview:\")\n",
    "        print(content_preview)\n",
    "    else:\n",
    "        print(\"\\nNo full content available for this article.\")"
   ]
  },
  {
   "cell_type": "code",
   "execution_count": null,
   "metadata": {},
   "outputs": [],
   "source": []
  }
 ],
 "metadata": {
  "kernelspec": {
   "display_name": ".venv",
   "language": "python",
   "name": "python3"
  },
  "language_info": {
   "codemirror_mode": {
    "name": "ipython",
    "version": 3
   },
   "file_extension": ".py",
   "mimetype": "text/x-python",
   "name": "python",
   "nbconvert_exporter": "python",
   "pygments_lexer": "ipython3",
   "version": "3.10.13"
  }
 },
 "nbformat": 4,
 "nbformat_minor": 2
}
