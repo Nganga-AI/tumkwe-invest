{
 "cells": [
  {
   "cell_type": "markdown",
   "metadata": {},
   "source": [
    "# Financial Metrics Collector Demo\n",
    "\n",
    "This notebook demonstrates how to use the Financial Metrics collector module to retrieve key financial data for companies."
   ]
  },
  {
   "cell_type": "code",
   "execution_count": 1,
   "metadata": {},
   "outputs": [
    {
     "data": {
      "text/plain": [
       "PosixPath('/data/home/eak/learning/nganga_ai/tumkwe-invest/tumkwe-invest')"
      ]
     },
     "execution_count": 1,
     "metadata": {},
     "output_type": "execute_result"
    }
   ],
   "source": [
    "import sys\n",
    "import pandas as pd\n",
    "import matplotlib.pyplot as plt\n",
    "from datetime import datetime\n",
    "from pathlib import Path\n",
    "\n",
    "# Add the project root to the Python path\n",
    "project_root = Path.cwd().parent.parent\n",
    "if str(project_root) not in sys.path:\n",
    "\tsys.path.append(str(project_root))\n",
    "project_root"
   ]
  },
  {
   "cell_type": "code",
   "execution_count": 2,
   "metadata": {},
   "outputs": [],
   "source": [
    "# Import the financial_metrics module\n",
    "from tumkwe_invest.datacollection.collectors.financial_metrics import (\n",
    "\tget_key_metrics_yf,\n",
    "\tget_alpha_vantage_metrics,\n",
    "\tget_comprehensive_metrics,\n",
    "\tget_quarterly_financial_data\n",
    ")"
   ]
  },
  {
   "cell_type": "markdown",
   "metadata": {},
   "source": [
    "## Check if ALPHA_VANTAGE_API_KEY is Set\n",
    "\n",
    "Part of this module uses Alpha Vantage API. Let's check if the API key is set."
   ]
  },
  {
   "cell_type": "code",
   "execution_count": 3,
   "metadata": {},
   "outputs": [
    {
     "name": "stdout",
     "output_type": "stream",
     "text": [
      "ALPHA_VANTAGE_API_KEY is set, full functionality is available.\n"
     ]
    }
   ],
   "source": [
    "import os\n",
    "\n",
    "# Check if ALPHA_VANTAGE_API_KEY is set\n",
    "alpha_vantage_api_key = os.environ.get('ALPHA_VANTAGE_API_KEY')\n",
    "if not alpha_vantage_api_key:\n",
    "\tprint(\"WARNING: ALPHA_VANTAGE_API_KEY environment variable is not set.\")\n",
    "\tprint(\"Some functions will have limited functionality.\")\n",
    "\tprint(\"You can get a free API key at https://www.alphavantage.co/support/#api-key\")\n",
    "\tprint(\"\\nExample: export ALPHA_VANTAGE_API_KEY='your_api_key_here'\")\n",
    "else:\n",
    "\tprint(\"ALPHA_VANTAGE_API_KEY is set, full functionality is available.\")"
   ]
  },
  {
   "cell_type": "markdown",
   "metadata": {},
   "source": [
    "## Get Yahoo Finance Key Metrics\n",
    "\n",
    "Let's fetch key financial metrics for some example companies using Yahoo Finance."
   ]
  },
  {
   "cell_type": "code",
   "execution_count": 4,
   "metadata": {},
   "outputs": [],
   "source": [
    "# Define ticker symbols for some popular companies\n",
    "tickers = ['AAPL', 'MSFT', 'GOOGL', 'AMZN', 'TSLA']"
   ]
  },
  {
   "cell_type": "code",
   "execution_count": 5,
   "metadata": {},
   "outputs": [
    {
     "data": {
      "text/plain": [
       "KeyMetrics(symbol='AAPL', source='alpha_vantage', last_updated=datetime.datetime(2025, 3, 21, 22, 36, 39, 583990), validation_warnings=[], is_valid=True, date=datetime.datetime(2025, 3, 21, 22, 36, 39, 583963), pe_ratio=33.93, pb_ratio=48.18, dividend_yield=0.0046, eps=6.31, market_cap=3216231891000.0, debt_to_equity=None, return_on_equity=1.365, return_on_assets=0.225, profit_margin=0.243, current_ratio=None, quick_ratio=None)"
      ]
     },
     "execution_count": 5,
     "metadata": {},
     "output_type": "execute_result"
    }
   ],
   "source": [
    "# Get key metrics for Apple from Yahoo Finance\n",
    "apple_metrics = get_alpha_vantage_metrics('AAPL')\n",
    "apple_metrics"
   ]
  },
  {
   "cell_type": "code",
   "execution_count": 6,
   "metadata": {},
   "outputs": [
    {
     "data": {
      "text/plain": [
       "KeyMetrics(symbol='AAPL', source='yahoo_finance', last_updated=datetime.datetime(2025, 3, 21, 22, 36, 40, 99839), validation_warnings=[], is_valid=True, date=datetime.datetime(2025, 3, 21, 22, 36, 40, 99817), pe_ratio=34.701115, pb_ratio=49.182064, dividend_yield=0.47, eps=6.29, market_cap=3278873821184, debt_to_equity=145.0, return_on_equity=1.3652, return_on_assets=0.22518998, profit_margin=0.24295, current_ratio=0.923, quick_ratio=0.783)"
      ]
     },
     "execution_count": 6,
     "metadata": {},
     "output_type": "execute_result"
    }
   ],
   "source": [
    "# Get key metrics for Apple from Yahoo Finance\n",
    "apple_metrics = get_key_metrics_yf('AAPL')\n",
    "apple_metrics"
   ]
  },
  {
   "cell_type": "markdown",
   "metadata": {},
   "source": [
    "## Get Comprehensive Metrics\n",
    "\n",
    "Now let's use the comprehensive metrics function that combines data from multiple sources."
   ]
  },
  {
   "cell_type": "code",
   "execution_count": 7,
   "metadata": {},
   "outputs": [],
   "source": [
    "# Function to convert metrics object to a dictionary for DataFrame creation\n",
    "from dataclasses import asdict\n",
    "def metrics_to_dict(metrics):\n",
    "\tif metrics is None:\n",
    "\t\treturn {}\n",
    "\treturn asdict(metrics)\n",
    "\treturn {\n",
    "\t\t'symbol': metrics.symbol,\n",
    "\t\t'source': metrics.source,\n",
    "\t\t'date': metrics.date,\n",
    "\t\t'pe_ratio': metrics.pe_ratio,\n",
    "\t\t'pb_ratio': metrics.pb_ratio,\n",
    "\t\t'dividend_yield': metrics.dividend_yield,\n",
    "\t\t'eps': metrics.eps,\n",
    "\t\t'market_cap': metrics.market_cap,\n",
    "\t\t'profit_margin': metrics.profit_margin,\n",
    "\t\t'debt_to_equity': metrics.debt_to_equity,\n",
    "\t\t'current_ratio': metrics.current_ratio,\n",
    "\t\t'return_on_equity': metrics.return_on_equity,\n",
    "\t\t'return_on_assets': metrics.return_on_assets,\n",
    "\t}"
   ]
  },
  {
   "cell_type": "code",
   "execution_count": 8,
   "metadata": {},
   "outputs": [
    {
     "name": "stdout",
     "output_type": "stream",
     "text": [
      "Retrieved comprehensive metrics for AAPL\n",
      "Retrieved comprehensive metrics for MSFT\n",
      "Retrieved comprehensive metrics for GOOGL\n",
      "Retrieved comprehensive metrics for AMZN\n",
      "Retrieved comprehensive metrics for TSLA\n"
     ]
    }
   ],
   "source": [
    "# Get comprehensive metrics for all tickers\n",
    "all_metrics = []\n",
    "\n",
    "for ticker in tickers:\n",
    "\tmetrics = get_comprehensive_metrics(ticker)\n",
    "\tif metrics:\n",
    "\t\tall_metrics.append(metrics_to_dict(metrics))\n",
    "\t\tprint(f\"Retrieved comprehensive metrics for {ticker}\")\n",
    "\telse:\n",
    "\t\tprint(f\"Failed to retrieve metrics for {ticker}\")"
   ]
  },
  {
   "cell_type": "code",
   "execution_count": 9,
   "metadata": {},
   "outputs": [
    {
     "data": {
      "text/html": [
       "<div>\n",
       "<style scoped>\n",
       "    .dataframe tbody tr th:only-of-type {\n",
       "        vertical-align: middle;\n",
       "    }\n",
       "\n",
       "    .dataframe tbody tr th {\n",
       "        vertical-align: top;\n",
       "    }\n",
       "\n",
       "    .dataframe thead th {\n",
       "        text-align: right;\n",
       "    }\n",
       "</style>\n",
       "<table border=\"1\" class=\"dataframe\">\n",
       "  <thead>\n",
       "    <tr style=\"text-align: right;\">\n",
       "      <th></th>\n",
       "      <th>symbol</th>\n",
       "      <th>source</th>\n",
       "      <th>last_updated</th>\n",
       "      <th>validation_warnings</th>\n",
       "      <th>is_valid</th>\n",
       "      <th>date</th>\n",
       "      <th>pe_ratio</th>\n",
       "      <th>pb_ratio</th>\n",
       "      <th>dividend_yield</th>\n",
       "      <th>eps</th>\n",
       "      <th>market_cap</th>\n",
       "      <th>debt_to_equity</th>\n",
       "      <th>return_on_equity</th>\n",
       "      <th>return_on_assets</th>\n",
       "      <th>profit_margin</th>\n",
       "      <th>current_ratio</th>\n",
       "      <th>quick_ratio</th>\n",
       "    </tr>\n",
       "  </thead>\n",
       "  <tbody>\n",
       "    <tr>\n",
       "      <th>0</th>\n",
       "      <td>AAPL</td>\n",
       "      <td>combined</td>\n",
       "      <td>2025-03-21 22:36:41.494488</td>\n",
       "      <td>[]</td>\n",
       "      <td>True</td>\n",
       "      <td>2025-03-21 22:36:41.494471</td>\n",
       "      <td>34.701115</td>\n",
       "      <td>49.182064</td>\n",
       "      <td>0.47</td>\n",
       "      <td>6.29</td>\n",
       "      <td>3278873821184</td>\n",
       "      <td>145.000</td>\n",
       "      <td>1.36520</td>\n",
       "      <td>0.22519</td>\n",
       "      <td>0.24295</td>\n",
       "      <td>0.923</td>\n",
       "      <td>0.783</td>\n",
       "    </tr>\n",
       "    <tr>\n",
       "      <th>1</th>\n",
       "      <td>MSFT</td>\n",
       "      <td>combined</td>\n",
       "      <td>2025-03-21 22:36:41.908395</td>\n",
       "      <td>[]</td>\n",
       "      <td>True</td>\n",
       "      <td>2025-03-21 22:36:41.908379</td>\n",
       "      <td>31.502417</td>\n",
       "      <td>9.610435</td>\n",
       "      <td>0.86</td>\n",
       "      <td>12.42</td>\n",
       "      <td>2908619014144</td>\n",
       "      <td>33.998</td>\n",
       "      <td>0.34291</td>\n",
       "      <td>0.14649</td>\n",
       "      <td>0.35428</td>\n",
       "      <td>1.351</td>\n",
       "      <td>1.204</td>\n",
       "    </tr>\n",
       "    <tr>\n",
       "      <th>2</th>\n",
       "      <td>GOOGL</td>\n",
       "      <td>combined</td>\n",
       "      <td>2025-03-21 22:36:42.333122</td>\n",
       "      <td>[]</td>\n",
       "      <td>True</td>\n",
       "      <td>2025-03-21 22:36:42.333106</td>\n",
       "      <td>20.396767</td>\n",
       "      <td>6.159943</td>\n",
       "      <td>0.49</td>\n",
       "      <td>8.04</td>\n",
       "      <td>2011501428736</td>\n",
       "      <td>8.655</td>\n",
       "      <td>0.32908</td>\n",
       "      <td>0.16740</td>\n",
       "      <td>0.28604</td>\n",
       "      <td>1.837</td>\n",
       "      <td>1.661</td>\n",
       "    </tr>\n",
       "    <tr>\n",
       "      <th>3</th>\n",
       "      <td>AMZN</td>\n",
       "      <td>combined</td>\n",
       "      <td>2025-03-21 22:36:43.716046</td>\n",
       "      <td>[]</td>\n",
       "      <td>True</td>\n",
       "      <td>2025-03-21 22:36:43.716029</td>\n",
       "      <td>35.416970</td>\n",
       "      <td>7.268114</td>\n",
       "      <td>NaN</td>\n",
       "      <td>5.54</td>\n",
       "      <td>2079374704640</td>\n",
       "      <td>54.342</td>\n",
       "      <td>0.24290</td>\n",
       "      <td>0.07438</td>\n",
       "      <td>0.09287</td>\n",
       "      <td>1.064</td>\n",
       "      <td>0.837</td>\n",
       "    </tr>\n",
       "    <tr>\n",
       "      <th>4</th>\n",
       "      <td>TSLA</td>\n",
       "      <td>combined</td>\n",
       "      <td>2025-03-21 22:36:44.075510</td>\n",
       "      <td>[]</td>\n",
       "      <td>True</td>\n",
       "      <td>2025-03-21 22:36:44.075493</td>\n",
       "      <td>122.517250</td>\n",
       "      <td>10.969918</td>\n",
       "      <td>NaN</td>\n",
       "      <td>2.03</td>\n",
       "      <td>799980716032</td>\n",
       "      <td>18.489</td>\n",
       "      <td>0.10420</td>\n",
       "      <td>0.04186</td>\n",
       "      <td>0.07259</td>\n",
       "      <td>2.025</td>\n",
       "      <td>1.427</td>\n",
       "    </tr>\n",
       "  </tbody>\n",
       "</table>\n",
       "</div>"
      ],
      "text/plain": [
       "  symbol    source               last_updated validation_warnings  is_valid  \\\n",
       "0   AAPL  combined 2025-03-21 22:36:41.494488                  []      True   \n",
       "1   MSFT  combined 2025-03-21 22:36:41.908395                  []      True   \n",
       "2  GOOGL  combined 2025-03-21 22:36:42.333122                  []      True   \n",
       "3   AMZN  combined 2025-03-21 22:36:43.716046                  []      True   \n",
       "4   TSLA  combined 2025-03-21 22:36:44.075510                  []      True   \n",
       "\n",
       "                        date    pe_ratio   pb_ratio  dividend_yield    eps  \\\n",
       "0 2025-03-21 22:36:41.494471   34.701115  49.182064            0.47   6.29   \n",
       "1 2025-03-21 22:36:41.908379   31.502417   9.610435            0.86  12.42   \n",
       "2 2025-03-21 22:36:42.333106   20.396767   6.159943            0.49   8.04   \n",
       "3 2025-03-21 22:36:43.716029   35.416970   7.268114             NaN   5.54   \n",
       "4 2025-03-21 22:36:44.075493  122.517250  10.969918             NaN   2.03   \n",
       "\n",
       "      market_cap  debt_to_equity  return_on_equity  return_on_assets  \\\n",
       "0  3278873821184         145.000           1.36520           0.22519   \n",
       "1  2908619014144          33.998           0.34291           0.14649   \n",
       "2  2011501428736           8.655           0.32908           0.16740   \n",
       "3  2079374704640          54.342           0.24290           0.07438   \n",
       "4   799980716032          18.489           0.10420           0.04186   \n",
       "\n",
       "   profit_margin  current_ratio  quick_ratio  \n",
       "0        0.24295          0.923        0.783  \n",
       "1        0.35428          1.351        1.204  \n",
       "2        0.28604          1.837        1.661  \n",
       "3        0.09287          1.064        0.837  \n",
       "4        0.07259          2.025        1.427  "
      ]
     },
     "metadata": {},
     "output_type": "display_data"
    }
   ],
   "source": [
    "# Create a DataFrame to visualize all metrics\n",
    "metrics_df = pd.DataFrame(all_metrics)\n",
    "\n",
    "# Format the numeric columns\n",
    "numeric_cols = ['pe_ratio', 'pb_ratio', 'dividend_yield', 'eps', \n",
    "\t\t\t\t'profit_margin', 'debt_to_equity', 'current_ratio', \n",
    "\t\t\t\t'return_on_equity', 'return_on_assets']\n",
    "\n",
    "for col in numeric_cols:\n",
    "\tif col in metrics_df.columns:\n",
    "\t\tmetrics_df[col] = metrics_df[col].astype(float)\n",
    "\n",
    "# Display the DataFrame\n",
    "display(metrics_df)"
   ]
  },
  {
   "cell_type": "markdown",
   "metadata": {},
   "source": [
    "## Visualize Key Financial Metrics"
   ]
  },
  {
   "cell_type": "code",
   "execution_count": 10,
   "metadata": {},
   "outputs": [
    {
     "data": {
      "image/png": "[encoded data removed]",
      "text/plain": [
       "<Figure size 1000x600 with 1 Axes>"
      ]
     },
     "metadata": {},
     "output_type": "display_data"
    }
   ],
   "source": [
    "# Create a bar chart comparing P/E ratios\n",
    "plt.figure(figsize=(10, 6))\n",
    "plt.bar(metrics_df['symbol'], metrics_df['pe_ratio'])\n",
    "plt.title('P/E Ratio Comparison')\n",
    "plt.xlabel('Company')\n",
    "plt.ylabel('P/E Ratio')\n",
    "plt.grid(axis='y', linestyle='--', alpha=0.7)\n",
    "plt.show()"
   ]
  },
  {
   "cell_type": "markdown",
   "metadata": {},
   "source": [
    "## Get Quarterly Financial Data"
   ]
  },
  {
   "cell_type": "code",
   "execution_count": 11,
   "metadata": {},
   "outputs": [
    {
     "name": "stdout",
     "output_type": "stream",
     "text": [
      "Retrieved 7 quarterly income statements\n",
      "Retrieved 7 quarterly balance sheets\n",
      "Retrieved 7 quarterly cash flows\n"
     ]
    }
   ],
   "source": [
    "# Get quarterly financial data for Apple\n",
    "apple_quarterly = get_quarterly_financial_data('AAPL')\n",
    "\n",
    "print(f\"Retrieved {len(apple_quarterly['income_statement'])} quarterly income statements\")\n",
    "print(f\"Retrieved {len(apple_quarterly['balance_sheet'])} quarterly balance sheets\")\n",
    "print(f\"Retrieved {len(apple_quarterly['cash_flow'])} quarterly cash flows\")"
   ]
  },
  {
   "cell_type": "code",
   "execution_count": 12,
   "metadata": {},
   "outputs": [
    {
     "name": "stdout",
     "output_type": "stream",
     "text": [
      "Date: 2024-12-31 00:00:00\n",
      "Fiscal Quarter: 4\n",
      "Fiscal Year: 2024\n",
      "\n",
      "Key Financial Items (in USD):\n",
      "Total Revenue: $124,300,000,000.00\n",
      "Gross Profit: $58,275,000,000.00\n",
      "Operating Income: $42,832,000,000.00\n",
      "Net Income: $36,330,000,000.00\n",
      "Research And Development: $8,268,000,000.00\n",
      "Selling General And Administration: $7,175,000,000.00\n"
     ]
    }
   ],
   "source": [
    "# Let's examine the first quarterly income statement\n",
    "if apple_quarterly['income_statement']:\n",
    "\tfirst_statement = apple_quarterly['income_statement'][0]\n",
    "\tprint(f\"Date: {first_statement.date}\")\n",
    "\tprint(f\"Fiscal Quarter: {first_statement.fiscal_quarter}\")\n",
    "\tprint(f\"Fiscal Year: {first_statement.fiscal_year}\")\n",
    "\t\n",
    "\t# Show some key data points\n",
    "\tdata = first_statement.data\n",
    "\t\n",
    "\tkey_items = [\n",
    "\t\t'Total Revenue', \n",
    "\t\t'Gross Profit', \n",
    "\t\t'Operating Income', \n",
    "\t\t'Net Income', \n",
    "\t\t'Research And Development', \n",
    "\t\t'Selling General And Administration'\n",
    "\t]\n",
    "\t\n",
    "\tprint(\"\\nKey Financial Items (in USD):\")\n",
    "\tfor item in key_items:\n",
    "\t\tif item in data:\n",
    "\t\t\tprint(f\"{item}: ${data[item]:,.2f}\")"
   ]
  }
 ],
 "metadata": {
  "kernelspec": {
   "display_name": ".venv",
   "language": "python",
   "name": "python3"
  },
  "language_info": {
   "codemirror_mode": {
    "name": "ipython",
    "version": 3
   },
   "file_extension": ".py",
   "mimetype": "text/x-python",
   "name": "python",
   "nbconvert_exporter": "python",
   "pygments_lexer": "ipython3",
   "version": "3.10.13"
  }
 },
 "nbformat": 4,
 "nbformat_minor": 2
}
