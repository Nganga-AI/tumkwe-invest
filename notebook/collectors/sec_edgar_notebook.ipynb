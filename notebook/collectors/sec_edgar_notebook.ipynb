{
 "cells": [
  {
   "cell_type": "markdown",
   "metadata": {},
   "source": [
    "# SEC EDGAR Filing Collector Demo\n",
    "\n",
    "This notebook demonstrates how to use the SEC EDGAR collector module to retrieve company filings from the SEC."
   ]
  },
  {
   "cell_type": "code",
   "execution_count": 1,
   "metadata": {},
   "outputs": [
    {
     "data": {
      "text/plain": [
       "PosixPath('/data/home/eak/learning/nganga_ai/tumkwe-invest/tumkwe-invest')"
      ]
     },
     "execution_count": 1,
     "metadata": {},
     "output_type": "execute_result"
    }
   ],
   "source": [
    "import sys\n",
    "import pandas as pd\n",
    "from datetime import datetime\n",
    "from pathlib import Path\n",
    "\n",
    "# Add the project root to the Python path\n",
    "project_root = Path.cwd().parent.parent\n",
    "if str(project_root) not in sys.path:\n",
    "    sys.path.append(str(project_root))\n",
    "project_root"
   ]
  },
  {
   "cell_type": "code",
   "execution_count": 2,
   "metadata": {},
   "outputs": [],
   "source": [
    "# Import the SEC EDGAR module\n",
    "from tumkwe_invest.datacollection.collectors.sec_edgar import (\n",
    "    get_cik_by_ticker,\n",
    "    get_recent_filings,\n",
    "    download_filing_document\n",
    ")"
   ]
  },
  {
   "cell_type": "markdown",
   "metadata": {},
   "source": [
    "## Check if SEC_USER_AGENT is Properly Configured\n",
    "\n",
    "The SEC requires a valid user-agent for API requests."
   ]
  },
  {
   "cell_type": "code",
   "execution_count": 3,
   "metadata": {},
   "outputs": [
    {
     "name": "stdout",
     "output_type": "stream",
     "text": [
      "SEC_USER_AGENT is configured as: TumkweInvest myname@example.com\n"
     ]
    }
   ],
   "source": [
    "import os\n",
    "\n",
    "# Check SEC_USER_AGENT from the config\n",
    "from tumkwe_invest.datacollection.config import SEC_USER_AGENT\n",
    "\n",
    "if not SEC_USER_AGENT or SEC_USER_AGENT == \"Your Name (your.email@example.com)\":\n",
    "    print(\"WARNING: SEC_USER_AGENT is not properly configured.\")\n",
    "    print(\"The SEC requires a valid user-agent with your name and email.\")\n",
    "    print(\"Please update the SEC_USER_AGENT in the config file.\")\n",
    "else:\n",
    "    print(f\"SEC_USER_AGENT is configured as: {SEC_USER_AGENT}\")"
   ]
  },
  {
   "cell_type": "markdown",
   "metadata": {},
   "source": [
    "## Get CIK Numbers for Companies\n",
    "\n",
    "Let's retrieve the CIK (Central Index Key) numbers for some companies."
   ]
  },
  {
   "cell_type": "code",
   "execution_count": 4,
   "metadata": {},
   "outputs": [],
   "source": [
    "# Define ticker symbols for some popular companies\n",
    "tickers = ['AAPL', 'MSFT', 'GOOGL', 'AMZN', 'TSLA']"
   ]
  },
  {
   "cell_type": "code",
   "execution_count": 5,
   "metadata": {},
   "outputs": [
    {
     "name": "stdout",
     "output_type": "stream",
     "text": [
      "Could not find CIK for AAPL\n",
      "AAPL: CIK not found\n",
      "Could not find CIK for MSFT\n",
      "MSFT: CIK not found\n",
      "Could not find CIK for GOOGL\n",
      "GOOGL: CIK not found\n",
      "Could not find CIK for AMZN\n",
      "AMZN: CIK not found\n",
      "Could not find CIK for TSLA\n",
      "TSLA: CIK not found\n"
     ]
    }
   ],
   "source": [
    "# Get CIK numbers for all tickers\n",
    "cik_results = {}\n",
    "\n",
    "for ticker in tickers:\n",
    "    cik = get_cik_by_ticker(ticker)\n",
    "    cik_results[ticker] = cik\n",
    "    if cik:\n",
    "        print(f\"{ticker}: CIK = {cik}\")\n",
    "    else:\n",
    "        print(f\"{ticker}: CIK not found\")"
   ]
  },
  {
   "cell_type": "markdown",
   "metadata": {},
   "source": [
    "## Get Recent SEC Filings\n",
    "\n",
    "Now let's fetch recent SEC filings for Apple."
   ]
  },
  {
   "cell_type": "code",
   "execution_count": 6,
   "metadata": {},
   "outputs": [
    {
     "name": "stdout",
     "output_type": "stream",
     "text": [
      "Could not find CIK for AAPL\n",
      "Retrieved 0 recent filings for Apple\n"
     ]
    }
   ],
   "source": [
    "# Get recent filings for Apple\n",
    "apple_filings = get_recent_filings('AAPL', filing_types=['10-K', '10-Q', '8-K'], count=10)\n",
    "print(f\"Retrieved {len(apple_filings)} recent filings for Apple\")"
   ]
  },
  {
   "cell_type": "code",
   "execution_count": 7,
   "metadata": {},
   "outputs": [
    {
     "name": "stdout",
     "output_type": "stream",
     "text": [
      "No filings found for Apple\n"
     ]
    }
   ],
   "source": [
    "# Display the filings in a DataFrame\n",
    "if apple_filings:\n",
    "    filings_df = pd.DataFrame([\n",
    "        {\n",
    "            \"company_symbol\": filing.company_symbol,\n",
    "            \"filing_type\": filing.filing_type,\n",
    "            \"filing_date\": filing.filing_date,\n",
    "            \"accession_number\": filing.accession_number,\n",
    "            \"url\": filing.url\n",
    "        } for filing in apple_filings\n",
    "    ])\n",
    "    display(filings_df)\n",
    "else:\n",
    "    print(\"No filings found for Apple\")"
   ]
  },
  {
   "cell_type": "markdown",
   "metadata": {},
   "source": [
    "## Download and Analyze a Specific Filing\n",
    "\n",
    "Let's download and examine a specific filing's content."
   ]
  },
  {
   "cell_type": "code",
   "execution_count": 8,
   "metadata": {},
   "outputs": [
    {
     "name": "stdout",
     "output_type": "stream",
     "text": [
      "No 10-Q filing found for Apple in the recent filings list\n"
     ]
    }
   ],
   "source": [
    "# Download the most recent 10-Q filing for Apple (if available)\n",
    "recent_10q = None\n",
    "for filing in apple_filings:\n",
    "    if filing.filing_type == '10-Q':\n",
    "        recent_10q = filing\n",
    "        break\n",
    "\n",
    "if recent_10q:\n",
    "    print(f\"Found 10-Q filing from {recent_10q.filing_date}\")\n",
    "    filing_text = download_filing_document(recent_10q)\n",
    "    \n",
    "    if filing_text:\n",
    "        # Show a preview of the text\n",
    "        print(f\"\\nPreview of 10-Q filing (first 1000 characters):\")\n",
    "        print(f\"\\n{filing_text[:1000]}...\")\n",
    "        \n",
    "        # Show total length of the document\n",
    "        print(f\"\\nTotal length of document: {len(filing_text)} characters\")\n",
    "    else:\n",
    "        print(\"Failed to download filing text\")\n",
    "else:\n",
    "    print(\"No 10-Q filing found for Apple in the recent filings list\")"
   ]
  },
  {
   "cell_type": "markdown",
   "metadata": {},
   "source": [
    "## Get Filings for Multiple Companies\n",
    "\n",
    "Let's get a specific type of filing for multiple companies."
   ]
  },
  {
   "cell_type": "code",
   "execution_count": 9,
   "metadata": {},
   "outputs": [
    {
     "name": "stdout",
     "output_type": "stream",
     "text": [
      "Could not find CIK for AAPL\n",
      "Retrieved 0 recent 10-K filings for AAPL\n",
      "Could not find CIK for MSFT\n",
      "Retrieved 0 recent 10-K filings for MSFT\n",
      "Could not find CIK for GOOGL\n",
      "Retrieved 0 recent 10-K filings for GOOGL\n"
     ]
    }
   ],
   "source": [
    "# Get recent 10-K (annual reports) for all companies\n",
    "all_10k_filings = {}\n",
    "\n",
    "for ticker in tickers[:3]:  # Limit to first 3 tickers to avoid rate limiting\n",
    "    filings = get_recent_filings(ticker, filing_types=['10-K'], count=2)\n",
    "    all_10k_filings[ticker] = filings\n",
    "    print(f\"Retrieved {len(filings)} recent 10-K filings for {ticker}\")"
   ]
  },
  {
   "cell_type": "code",
   "execution_count": 10,
   "metadata": {},
   "outputs": [
    {
     "name": "stdout",
     "output_type": "stream",
     "text": [
      "No filings found\n"
     ]
    }
   ],
   "source": [
    "# Create a consolidated DataFrame of all 10-K filings\n",
    "all_filings_list = []\n",
    "\n",
    "for ticker, filings in all_10k_filings.items():\n",
    "    for filing in filings:\n",
    "        all_filings_list.append({\n",
    "            \"company_symbol\": filing.company_symbol,\n",
    "            \"filing_type\": filing.filing_type,\n",
    "            \"filing_date\": filing.filing_date,\n",
    "            \"accession_number\": filing.accession_number\n",
    "        })\n",
    "\n",
    "# Display as DataFrame\n",
    "if all_filings_list:\n",
    "    all_filings_df = pd.DataFrame(all_filings_list)\n",
    "    display(all_filings_df)\n",
    "else:\n",
    "    print(\"No filings found\")"
   ]
  },
  {
   "cell_type": "code",
   "execution_count": null,
   "metadata": {},
   "outputs": [],
   "source": []
  }
 ],
 "metadata": {
  "kernelspec": {
   "display_name": ".venv",
   "language": "python",
   "name": "python3"
  },
  "language_info": {
   "codemirror_mode": {
    "name": "ipython",
    "version": 3
   },
   "file_extension": ".py",
   "mimetype": "text/x-python",
   "name": "python",
   "nbconvert_exporter": "python",
   "pygments_lexer": "ipython3",
   "version": "3.10.13"
  }
 },
 "nbformat": 4,
 "nbformat_minor": 2
}
